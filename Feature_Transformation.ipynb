{
  "nbformat": 4,
  "nbformat_minor": 0,
  "metadata": {
    "colab": {
      "provenance": [],
      "authorship_tag": "ABX9TyMFjxwrb2OXE6ckd8wP+e6S",
      "include_colab_link": true
    },
    "kernelspec": {
      "name": "python3",
      "display_name": "Python 3"
    },
    "language_info": {
      "name": "python"
    }
  },
  "cells": [
    {
      "cell_type": "markdown",
      "metadata": {
        "id": "view-in-github",
        "colab_type": "text"
      },
      "source": [
        "<a href=\"https://colab.research.google.com/github/EmamulHossen/FeatureTransformation-Assignment-/blob/main/Feature_Transformation.ipynb\" target=\"_parent\"><img src=\"https://colab.research.google.com/assets/colab-badge.svg\" alt=\"Open In Colab\"/></a>"
      ]
    },
    {
      "cell_type": "code",
      "source": [
        "from google.colab import drive"
      ],
      "metadata": {
        "id": "zvYtR1PpKXfl"
      },
      "execution_count": 1,
      "outputs": []
    },
    {
      "cell_type": "code",
      "source": [
        "drive.mount(\"/content/drive\")"
      ],
      "metadata": {
        "colab": {
          "base_uri": "https://localhost:8080/"
        },
        "id": "se0MNs-HKjpO",
        "outputId": "4e922ae5-ce5b-4a4c-83e5-2d9014f209f2"
      },
      "execution_count": 2,
      "outputs": [
        {
          "output_type": "stream",
          "name": "stdout",
          "text": [
            "Mounted at /content/drive\n"
          ]
        }
      ]
    },
    {
      "cell_type": "markdown",
      "source": [
        "# **Import Required Library**"
      ],
      "metadata": {
        "id": "n49x41CxBg27"
      }
    },
    {
      "cell_type": "code",
      "execution_count": 3,
      "metadata": {
        "id": "cHZw00w5j6Hy"
      },
      "outputs": [],
      "source": [
        "import pandas as pd"
      ]
    },
    {
      "cell_type": "markdown",
      "source": [
        "# **Load the Dataset**"
      ],
      "metadata": {
        "id": "-vdxKrg9B3yD"
      }
    },
    {
      "cell_type": "code",
      "source": [
        "df=pd.read_csv(\"/content/drive/MyDrive/Data/supershops.csv\")"
      ],
      "metadata": {
        "id": "NsEXMEzABxm0"
      },
      "execution_count": 4,
      "outputs": []
    },
    {
      "cell_type": "code",
      "source": [
        "df.head()"
      ],
      "metadata": {
        "colab": {
          "base_uri": "https://localhost:8080/",
          "height": 206
        },
        "id": "41M_bLOWBxkC",
        "outputId": "6fa30707-a61d-4b96-b6f0-d2a005d6ba44"
      },
      "execution_count": 5,
      "outputs": [
        {
          "output_type": "execute_result",
          "data": {
            "text/plain": [
              "   Marketing Spend  Administration  Transport     Area     Profit\n",
              "0        114523.61       136897.80  471784.10    Dhaka  192261.83\n",
              "1        162597.70       151377.59  443898.53      Ctg  191792.06\n",
              "2        153441.51       101145.55  407934.54  Rangpur  191050.39\n",
              "3        144372.41       118671.85  383199.62    Dhaka  182901.99\n",
              "4        142107.34        91391.77  366168.42  Rangpur  166187.94"
            ],
            "text/html": [
              "\n",
              "  <div id=\"df-76196b8b-36ed-478f-8391-2713b154d1a8\" class=\"colab-df-container\">\n",
              "    <div>\n",
              "<style scoped>\n",
              "    .dataframe tbody tr th:only-of-type {\n",
              "        vertical-align: middle;\n",
              "    }\n",
              "\n",
              "    .dataframe tbody tr th {\n",
              "        vertical-align: top;\n",
              "    }\n",
              "\n",
              "    .dataframe thead th {\n",
              "        text-align: right;\n",
              "    }\n",
              "</style>\n",
              "<table border=\"1\" class=\"dataframe\">\n",
              "  <thead>\n",
              "    <tr style=\"text-align: right;\">\n",
              "      <th></th>\n",
              "      <th>Marketing Spend</th>\n",
              "      <th>Administration</th>\n",
              "      <th>Transport</th>\n",
              "      <th>Area</th>\n",
              "      <th>Profit</th>\n",
              "    </tr>\n",
              "  </thead>\n",
              "  <tbody>\n",
              "    <tr>\n",
              "      <th>0</th>\n",
              "      <td>114523.61</td>\n",
              "      <td>136897.80</td>\n",
              "      <td>471784.10</td>\n",
              "      <td>Dhaka</td>\n",
              "      <td>192261.83</td>\n",
              "    </tr>\n",
              "    <tr>\n",
              "      <th>1</th>\n",
              "      <td>162597.70</td>\n",
              "      <td>151377.59</td>\n",
              "      <td>443898.53</td>\n",
              "      <td>Ctg</td>\n",
              "      <td>191792.06</td>\n",
              "    </tr>\n",
              "    <tr>\n",
              "      <th>2</th>\n",
              "      <td>153441.51</td>\n",
              "      <td>101145.55</td>\n",
              "      <td>407934.54</td>\n",
              "      <td>Rangpur</td>\n",
              "      <td>191050.39</td>\n",
              "    </tr>\n",
              "    <tr>\n",
              "      <th>3</th>\n",
              "      <td>144372.41</td>\n",
              "      <td>118671.85</td>\n",
              "      <td>383199.62</td>\n",
              "      <td>Dhaka</td>\n",
              "      <td>182901.99</td>\n",
              "    </tr>\n",
              "    <tr>\n",
              "      <th>4</th>\n",
              "      <td>142107.34</td>\n",
              "      <td>91391.77</td>\n",
              "      <td>366168.42</td>\n",
              "      <td>Rangpur</td>\n",
              "      <td>166187.94</td>\n",
              "    </tr>\n",
              "  </tbody>\n",
              "</table>\n",
              "</div>\n",
              "    <div class=\"colab-df-buttons\">\n",
              "\n",
              "  <div class=\"colab-df-container\">\n",
              "    <button class=\"colab-df-convert\" onclick=\"convertToInteractive('df-76196b8b-36ed-478f-8391-2713b154d1a8')\"\n",
              "            title=\"Convert this dataframe to an interactive table.\"\n",
              "            style=\"display:none;\">\n",
              "\n",
              "  <svg xmlns=\"http://www.w3.org/2000/svg\" height=\"24px\" viewBox=\"0 -960 960 960\">\n",
              "    <path d=\"M120-120v-720h720v720H120Zm60-500h600v-160H180v160Zm220 220h160v-160H400v160Zm0 220h160v-160H400v160ZM180-400h160v-160H180v160Zm440 0h160v-160H620v160ZM180-180h160v-160H180v160Zm440 0h160v-160H620v160Z\"/>\n",
              "  </svg>\n",
              "    </button>\n",
              "\n",
              "  <style>\n",
              "    .colab-df-container {\n",
              "      display:flex;\n",
              "      gap: 12px;\n",
              "    }\n",
              "\n",
              "    .colab-df-convert {\n",
              "      background-color: #E8F0FE;\n",
              "      border: none;\n",
              "      border-radius: 50%;\n",
              "      cursor: pointer;\n",
              "      display: none;\n",
              "      fill: #1967D2;\n",
              "      height: 32px;\n",
              "      padding: 0 0 0 0;\n",
              "      width: 32px;\n",
              "    }\n",
              "\n",
              "    .colab-df-convert:hover {\n",
              "      background-color: #E2EBFA;\n",
              "      box-shadow: 0px 1px 2px rgba(60, 64, 67, 0.3), 0px 1px 3px 1px rgba(60, 64, 67, 0.15);\n",
              "      fill: #174EA6;\n",
              "    }\n",
              "\n",
              "    .colab-df-buttons div {\n",
              "      margin-bottom: 4px;\n",
              "    }\n",
              "\n",
              "    [theme=dark] .colab-df-convert {\n",
              "      background-color: #3B4455;\n",
              "      fill: #D2E3FC;\n",
              "    }\n",
              "\n",
              "    [theme=dark] .colab-df-convert:hover {\n",
              "      background-color: #434B5C;\n",
              "      box-shadow: 0px 1px 3px 1px rgba(0, 0, 0, 0.15);\n",
              "      filter: drop-shadow(0px 1px 2px rgba(0, 0, 0, 0.3));\n",
              "      fill: #FFFFFF;\n",
              "    }\n",
              "  </style>\n",
              "\n",
              "    <script>\n",
              "      const buttonEl =\n",
              "        document.querySelector('#df-76196b8b-36ed-478f-8391-2713b154d1a8 button.colab-df-convert');\n",
              "      buttonEl.style.display =\n",
              "        google.colab.kernel.accessAllowed ? 'block' : 'none';\n",
              "\n",
              "      async function convertToInteractive(key) {\n",
              "        const element = document.querySelector('#df-76196b8b-36ed-478f-8391-2713b154d1a8');\n",
              "        const dataTable =\n",
              "          await google.colab.kernel.invokeFunction('convertToInteractive',\n",
              "                                                    [key], {});\n",
              "        if (!dataTable) return;\n",
              "\n",
              "        const docLinkHtml = 'Like what you see? Visit the ' +\n",
              "          '<a target=\"_blank\" href=https://colab.research.google.com/notebooks/data_table.ipynb>data table notebook</a>'\n",
              "          + ' to learn more about interactive tables.';\n",
              "        element.innerHTML = '';\n",
              "        dataTable['output_type'] = 'display_data';\n",
              "        await google.colab.output.renderOutput(dataTable, element);\n",
              "        const docLink = document.createElement('div');\n",
              "        docLink.innerHTML = docLinkHtml;\n",
              "        element.appendChild(docLink);\n",
              "      }\n",
              "    </script>\n",
              "  </div>\n",
              "\n",
              "\n",
              "<div id=\"df-1c016b0a-066d-454f-b252-1459ed5373eb\">\n",
              "  <button class=\"colab-df-quickchart\" onclick=\"quickchart('df-1c016b0a-066d-454f-b252-1459ed5373eb')\"\n",
              "            title=\"Suggest charts.\"\n",
              "            style=\"display:none;\">\n",
              "\n",
              "<svg xmlns=\"http://www.w3.org/2000/svg\" height=\"24px\"viewBox=\"0 0 24 24\"\n",
              "     width=\"24px\">\n",
              "    <g>\n",
              "        <path d=\"M19 3H5c-1.1 0-2 .9-2 2v14c0 1.1.9 2 2 2h14c1.1 0 2-.9 2-2V5c0-1.1-.9-2-2-2zM9 17H7v-7h2v7zm4 0h-2V7h2v10zm4 0h-2v-4h2v4z\"/>\n",
              "    </g>\n",
              "</svg>\n",
              "  </button>\n",
              "\n",
              "<style>\n",
              "  .colab-df-quickchart {\n",
              "    background-color: #E8F0FE;\n",
              "    border: none;\n",
              "    border-radius: 50%;\n",
              "    cursor: pointer;\n",
              "    display: none;\n",
              "    fill: #1967D2;\n",
              "    height: 32px;\n",
              "    padding: 0 0 0 0;\n",
              "    width: 32px;\n",
              "  }\n",
              "\n",
              "  .colab-df-quickchart:hover {\n",
              "    background-color: #E2EBFA;\n",
              "    box-shadow: 0px 1px 2px rgba(60, 64, 67, 0.3), 0px 1px 3px 1px rgba(60, 64, 67, 0.15);\n",
              "    fill: #174EA6;\n",
              "  }\n",
              "\n",
              "  [theme=dark] .colab-df-quickchart {\n",
              "    background-color: #3B4455;\n",
              "    fill: #D2E3FC;\n",
              "  }\n",
              "\n",
              "  [theme=dark] .colab-df-quickchart:hover {\n",
              "    background-color: #434B5C;\n",
              "    box-shadow: 0px 1px 3px 1px rgba(0, 0, 0, 0.15);\n",
              "    filter: drop-shadow(0px 1px 2px rgba(0, 0, 0, 0.3));\n",
              "    fill: #FFFFFF;\n",
              "  }\n",
              "</style>\n",
              "\n",
              "  <script>\n",
              "    async function quickchart(key) {\n",
              "      const charts = await google.colab.kernel.invokeFunction(\n",
              "          'suggestCharts', [key], {});\n",
              "    }\n",
              "    (() => {\n",
              "      let quickchartButtonEl =\n",
              "        document.querySelector('#df-1c016b0a-066d-454f-b252-1459ed5373eb button');\n",
              "      quickchartButtonEl.style.display =\n",
              "        google.colab.kernel.accessAllowed ? 'block' : 'none';\n",
              "    })();\n",
              "  </script>\n",
              "</div>\n",
              "    </div>\n",
              "  </div>\n"
            ]
          },
          "metadata": {},
          "execution_count": 5
        }
      ]
    },
    {
      "cell_type": "markdown",
      "source": [
        "# **Spliting the feature & Label Column**"
      ],
      "metadata": {
        "id": "tIDepbIhCTHp"
      }
    },
    {
      "cell_type": "code",
      "source": [
        "x=df.drop(\"Profit\",axis=1)\n",
        "y=df[\"Profit\"]"
      ],
      "metadata": {
        "id": "HkBrAK9CBxgi"
      },
      "execution_count": 6,
      "outputs": []
    },
    {
      "cell_type": "code",
      "source": [
        "x.head() #Feature Column"
      ],
      "metadata": {
        "colab": {
          "base_uri": "https://localhost:8080/",
          "height": 206
        },
        "id": "WNP0FqxYBxdP",
        "outputId": "b8ac99f7-d4ba-4d6b-d39f-872e426c0d44"
      },
      "execution_count": 7,
      "outputs": [
        {
          "output_type": "execute_result",
          "data": {
            "text/plain": [
              "   Marketing Spend  Administration  Transport     Area\n",
              "0        114523.61       136897.80  471784.10    Dhaka\n",
              "1        162597.70       151377.59  443898.53      Ctg\n",
              "2        153441.51       101145.55  407934.54  Rangpur\n",
              "3        144372.41       118671.85  383199.62    Dhaka\n",
              "4        142107.34        91391.77  366168.42  Rangpur"
            ],
            "text/html": [
              "\n",
              "  <div id=\"df-5b6e7863-a101-4b82-87b3-bc60b9328a57\" class=\"colab-df-container\">\n",
              "    <div>\n",
              "<style scoped>\n",
              "    .dataframe tbody tr th:only-of-type {\n",
              "        vertical-align: middle;\n",
              "    }\n",
              "\n",
              "    .dataframe tbody tr th {\n",
              "        vertical-align: top;\n",
              "    }\n",
              "\n",
              "    .dataframe thead th {\n",
              "        text-align: right;\n",
              "    }\n",
              "</style>\n",
              "<table border=\"1\" class=\"dataframe\">\n",
              "  <thead>\n",
              "    <tr style=\"text-align: right;\">\n",
              "      <th></th>\n",
              "      <th>Marketing Spend</th>\n",
              "      <th>Administration</th>\n",
              "      <th>Transport</th>\n",
              "      <th>Area</th>\n",
              "    </tr>\n",
              "  </thead>\n",
              "  <tbody>\n",
              "    <tr>\n",
              "      <th>0</th>\n",
              "      <td>114523.61</td>\n",
              "      <td>136897.80</td>\n",
              "      <td>471784.10</td>\n",
              "      <td>Dhaka</td>\n",
              "    </tr>\n",
              "    <tr>\n",
              "      <th>1</th>\n",
              "      <td>162597.70</td>\n",
              "      <td>151377.59</td>\n",
              "      <td>443898.53</td>\n",
              "      <td>Ctg</td>\n",
              "    </tr>\n",
              "    <tr>\n",
              "      <th>2</th>\n",
              "      <td>153441.51</td>\n",
              "      <td>101145.55</td>\n",
              "      <td>407934.54</td>\n",
              "      <td>Rangpur</td>\n",
              "    </tr>\n",
              "    <tr>\n",
              "      <th>3</th>\n",
              "      <td>144372.41</td>\n",
              "      <td>118671.85</td>\n",
              "      <td>383199.62</td>\n",
              "      <td>Dhaka</td>\n",
              "    </tr>\n",
              "    <tr>\n",
              "      <th>4</th>\n",
              "      <td>142107.34</td>\n",
              "      <td>91391.77</td>\n",
              "      <td>366168.42</td>\n",
              "      <td>Rangpur</td>\n",
              "    </tr>\n",
              "  </tbody>\n",
              "</table>\n",
              "</div>\n",
              "    <div class=\"colab-df-buttons\">\n",
              "\n",
              "  <div class=\"colab-df-container\">\n",
              "    <button class=\"colab-df-convert\" onclick=\"convertToInteractive('df-5b6e7863-a101-4b82-87b3-bc60b9328a57')\"\n",
              "            title=\"Convert this dataframe to an interactive table.\"\n",
              "            style=\"display:none;\">\n",
              "\n",
              "  <svg xmlns=\"http://www.w3.org/2000/svg\" height=\"24px\" viewBox=\"0 -960 960 960\">\n",
              "    <path d=\"M120-120v-720h720v720H120Zm60-500h600v-160H180v160Zm220 220h160v-160H400v160Zm0 220h160v-160H400v160ZM180-400h160v-160H180v160Zm440 0h160v-160H620v160ZM180-180h160v-160H180v160Zm440 0h160v-160H620v160Z\"/>\n",
              "  </svg>\n",
              "    </button>\n",
              "\n",
              "  <style>\n",
              "    .colab-df-container {\n",
              "      display:flex;\n",
              "      gap: 12px;\n",
              "    }\n",
              "\n",
              "    .colab-df-convert {\n",
              "      background-color: #E8F0FE;\n",
              "      border: none;\n",
              "      border-radius: 50%;\n",
              "      cursor: pointer;\n",
              "      display: none;\n",
              "      fill: #1967D2;\n",
              "      height: 32px;\n",
              "      padding: 0 0 0 0;\n",
              "      width: 32px;\n",
              "    }\n",
              "\n",
              "    .colab-df-convert:hover {\n",
              "      background-color: #E2EBFA;\n",
              "      box-shadow: 0px 1px 2px rgba(60, 64, 67, 0.3), 0px 1px 3px 1px rgba(60, 64, 67, 0.15);\n",
              "      fill: #174EA6;\n",
              "    }\n",
              "\n",
              "    .colab-df-buttons div {\n",
              "      margin-bottom: 4px;\n",
              "    }\n",
              "\n",
              "    [theme=dark] .colab-df-convert {\n",
              "      background-color: #3B4455;\n",
              "      fill: #D2E3FC;\n",
              "    }\n",
              "\n",
              "    [theme=dark] .colab-df-convert:hover {\n",
              "      background-color: #434B5C;\n",
              "      box-shadow: 0px 1px 3px 1px rgba(0, 0, 0, 0.15);\n",
              "      filter: drop-shadow(0px 1px 2px rgba(0, 0, 0, 0.3));\n",
              "      fill: #FFFFFF;\n",
              "    }\n",
              "  </style>\n",
              "\n",
              "    <script>\n",
              "      const buttonEl =\n",
              "        document.querySelector('#df-5b6e7863-a101-4b82-87b3-bc60b9328a57 button.colab-df-convert');\n",
              "      buttonEl.style.display =\n",
              "        google.colab.kernel.accessAllowed ? 'block' : 'none';\n",
              "\n",
              "      async function convertToInteractive(key) {\n",
              "        const element = document.querySelector('#df-5b6e7863-a101-4b82-87b3-bc60b9328a57');\n",
              "        const dataTable =\n",
              "          await google.colab.kernel.invokeFunction('convertToInteractive',\n",
              "                                                    [key], {});\n",
              "        if (!dataTable) return;\n",
              "\n",
              "        const docLinkHtml = 'Like what you see? Visit the ' +\n",
              "          '<a target=\"_blank\" href=https://colab.research.google.com/notebooks/data_table.ipynb>data table notebook</a>'\n",
              "          + ' to learn more about interactive tables.';\n",
              "        element.innerHTML = '';\n",
              "        dataTable['output_type'] = 'display_data';\n",
              "        await google.colab.output.renderOutput(dataTable, element);\n",
              "        const docLink = document.createElement('div');\n",
              "        docLink.innerHTML = docLinkHtml;\n",
              "        element.appendChild(docLink);\n",
              "      }\n",
              "    </script>\n",
              "  </div>\n",
              "\n",
              "\n",
              "<div id=\"df-c108daec-e62e-4761-b713-1df439284554\">\n",
              "  <button class=\"colab-df-quickchart\" onclick=\"quickchart('df-c108daec-e62e-4761-b713-1df439284554')\"\n",
              "            title=\"Suggest charts.\"\n",
              "            style=\"display:none;\">\n",
              "\n",
              "<svg xmlns=\"http://www.w3.org/2000/svg\" height=\"24px\"viewBox=\"0 0 24 24\"\n",
              "     width=\"24px\">\n",
              "    <g>\n",
              "        <path d=\"M19 3H5c-1.1 0-2 .9-2 2v14c0 1.1.9 2 2 2h14c1.1 0 2-.9 2-2V5c0-1.1-.9-2-2-2zM9 17H7v-7h2v7zm4 0h-2V7h2v10zm4 0h-2v-4h2v4z\"/>\n",
              "    </g>\n",
              "</svg>\n",
              "  </button>\n",
              "\n",
              "<style>\n",
              "  .colab-df-quickchart {\n",
              "    background-color: #E8F0FE;\n",
              "    border: none;\n",
              "    border-radius: 50%;\n",
              "    cursor: pointer;\n",
              "    display: none;\n",
              "    fill: #1967D2;\n",
              "    height: 32px;\n",
              "    padding: 0 0 0 0;\n",
              "    width: 32px;\n",
              "  }\n",
              "\n",
              "  .colab-df-quickchart:hover {\n",
              "    background-color: #E2EBFA;\n",
              "    box-shadow: 0px 1px 2px rgba(60, 64, 67, 0.3), 0px 1px 3px 1px rgba(60, 64, 67, 0.15);\n",
              "    fill: #174EA6;\n",
              "  }\n",
              "\n",
              "  [theme=dark] .colab-df-quickchart {\n",
              "    background-color: #3B4455;\n",
              "    fill: #D2E3FC;\n",
              "  }\n",
              "\n",
              "  [theme=dark] .colab-df-quickchart:hover {\n",
              "    background-color: #434B5C;\n",
              "    box-shadow: 0px 1px 3px 1px rgba(0, 0, 0, 0.15);\n",
              "    filter: drop-shadow(0px 1px 2px rgba(0, 0, 0, 0.3));\n",
              "    fill: #FFFFFF;\n",
              "  }\n",
              "</style>\n",
              "\n",
              "  <script>\n",
              "    async function quickchart(key) {\n",
              "      const charts = await google.colab.kernel.invokeFunction(\n",
              "          'suggestCharts', [key], {});\n",
              "    }\n",
              "    (() => {\n",
              "      let quickchartButtonEl =\n",
              "        document.querySelector('#df-c108daec-e62e-4761-b713-1df439284554 button');\n",
              "      quickchartButtonEl.style.display =\n",
              "        google.colab.kernel.accessAllowed ? 'block' : 'none';\n",
              "    })();\n",
              "  </script>\n",
              "</div>\n",
              "    </div>\n",
              "  </div>\n"
            ]
          },
          "metadata": {},
          "execution_count": 7
        }
      ]
    },
    {
      "cell_type": "code",
      "source": [
        "y.head() #Target /Label column"
      ],
      "metadata": {
        "colab": {
          "base_uri": "https://localhost:8080/"
        },
        "id": "nr1KuW-ABxaJ",
        "outputId": "73e0c08a-f956-458f-e76c-def3e53524a5"
      },
      "execution_count": 8,
      "outputs": [
        {
          "output_type": "execute_result",
          "data": {
            "text/plain": [
              "0    192261.83\n",
              "1    191792.06\n",
              "2    191050.39\n",
              "3    182901.99\n",
              "4    166187.94\n",
              "Name: Profit, dtype: float64"
            ]
          },
          "metadata": {},
          "execution_count": 8
        }
      ]
    },
    {
      "cell_type": "markdown",
      "source": [
        "# **Statistical Summary**"
      ],
      "metadata": {
        "id": "H0aosOnUDUID"
      }
    },
    {
      "cell_type": "code",
      "source": [
        "x.describe()"
      ],
      "metadata": {
        "colab": {
          "base_uri": "https://localhost:8080/",
          "height": 300
        },
        "id": "Hedsw1xEBxWM",
        "outputId": "616b673f-7b1a-42de-b524-25ad9b124a91"
      },
      "execution_count": 9,
      "outputs": [
        {
          "output_type": "execute_result",
          "data": {
            "text/plain": [
              "       Marketing Spend  Administration      Transport\n",
              "count        50.000000       50.000000      49.000000\n",
              "mean      73721.615600   121344.639600  215331.732449\n",
              "std       45902.256482    28017.802755  119665.391550\n",
              "min           0.000000    51283.140000       0.000000\n",
              "25%       39936.370000   103730.875000  134050.070000\n",
              "50%       73051.080000   122699.795000  214634.810000\n",
              "75%      101602.800000   144842.180000  299737.290000\n",
              "max      165349.200000   182645.560000  471784.100000"
            ],
            "text/html": [
              "\n",
              "  <div id=\"df-75468bb8-9f1e-45ad-9971-4811e1cc75a4\" class=\"colab-df-container\">\n",
              "    <div>\n",
              "<style scoped>\n",
              "    .dataframe tbody tr th:only-of-type {\n",
              "        vertical-align: middle;\n",
              "    }\n",
              "\n",
              "    .dataframe tbody tr th {\n",
              "        vertical-align: top;\n",
              "    }\n",
              "\n",
              "    .dataframe thead th {\n",
              "        text-align: right;\n",
              "    }\n",
              "</style>\n",
              "<table border=\"1\" class=\"dataframe\">\n",
              "  <thead>\n",
              "    <tr style=\"text-align: right;\">\n",
              "      <th></th>\n",
              "      <th>Marketing Spend</th>\n",
              "      <th>Administration</th>\n",
              "      <th>Transport</th>\n",
              "    </tr>\n",
              "  </thead>\n",
              "  <tbody>\n",
              "    <tr>\n",
              "      <th>count</th>\n",
              "      <td>50.000000</td>\n",
              "      <td>50.000000</td>\n",
              "      <td>49.000000</td>\n",
              "    </tr>\n",
              "    <tr>\n",
              "      <th>mean</th>\n",
              "      <td>73721.615600</td>\n",
              "      <td>121344.639600</td>\n",
              "      <td>215331.732449</td>\n",
              "    </tr>\n",
              "    <tr>\n",
              "      <th>std</th>\n",
              "      <td>45902.256482</td>\n",
              "      <td>28017.802755</td>\n",
              "      <td>119665.391550</td>\n",
              "    </tr>\n",
              "    <tr>\n",
              "      <th>min</th>\n",
              "      <td>0.000000</td>\n",
              "      <td>51283.140000</td>\n",
              "      <td>0.000000</td>\n",
              "    </tr>\n",
              "    <tr>\n",
              "      <th>25%</th>\n",
              "      <td>39936.370000</td>\n",
              "      <td>103730.875000</td>\n",
              "      <td>134050.070000</td>\n",
              "    </tr>\n",
              "    <tr>\n",
              "      <th>50%</th>\n",
              "      <td>73051.080000</td>\n",
              "      <td>122699.795000</td>\n",
              "      <td>214634.810000</td>\n",
              "    </tr>\n",
              "    <tr>\n",
              "      <th>75%</th>\n",
              "      <td>101602.800000</td>\n",
              "      <td>144842.180000</td>\n",
              "      <td>299737.290000</td>\n",
              "    </tr>\n",
              "    <tr>\n",
              "      <th>max</th>\n",
              "      <td>165349.200000</td>\n",
              "      <td>182645.560000</td>\n",
              "      <td>471784.100000</td>\n",
              "    </tr>\n",
              "  </tbody>\n",
              "</table>\n",
              "</div>\n",
              "    <div class=\"colab-df-buttons\">\n",
              "\n",
              "  <div class=\"colab-df-container\">\n",
              "    <button class=\"colab-df-convert\" onclick=\"convertToInteractive('df-75468bb8-9f1e-45ad-9971-4811e1cc75a4')\"\n",
              "            title=\"Convert this dataframe to an interactive table.\"\n",
              "            style=\"display:none;\">\n",
              "\n",
              "  <svg xmlns=\"http://www.w3.org/2000/svg\" height=\"24px\" viewBox=\"0 -960 960 960\">\n",
              "    <path d=\"M120-120v-720h720v720H120Zm60-500h600v-160H180v160Zm220 220h160v-160H400v160Zm0 220h160v-160H400v160ZM180-400h160v-160H180v160Zm440 0h160v-160H620v160ZM180-180h160v-160H180v160Zm440 0h160v-160H620v160Z\"/>\n",
              "  </svg>\n",
              "    </button>\n",
              "\n",
              "  <style>\n",
              "    .colab-df-container {\n",
              "      display:flex;\n",
              "      gap: 12px;\n",
              "    }\n",
              "\n",
              "    .colab-df-convert {\n",
              "      background-color: #E8F0FE;\n",
              "      border: none;\n",
              "      border-radius: 50%;\n",
              "      cursor: pointer;\n",
              "      display: none;\n",
              "      fill: #1967D2;\n",
              "      height: 32px;\n",
              "      padding: 0 0 0 0;\n",
              "      width: 32px;\n",
              "    }\n",
              "\n",
              "    .colab-df-convert:hover {\n",
              "      background-color: #E2EBFA;\n",
              "      box-shadow: 0px 1px 2px rgba(60, 64, 67, 0.3), 0px 1px 3px 1px rgba(60, 64, 67, 0.15);\n",
              "      fill: #174EA6;\n",
              "    }\n",
              "\n",
              "    .colab-df-buttons div {\n",
              "      margin-bottom: 4px;\n",
              "    }\n",
              "\n",
              "    [theme=dark] .colab-df-convert {\n",
              "      background-color: #3B4455;\n",
              "      fill: #D2E3FC;\n",
              "    }\n",
              "\n",
              "    [theme=dark] .colab-df-convert:hover {\n",
              "      background-color: #434B5C;\n",
              "      box-shadow: 0px 1px 3px 1px rgba(0, 0, 0, 0.15);\n",
              "      filter: drop-shadow(0px 1px 2px rgba(0, 0, 0, 0.3));\n",
              "      fill: #FFFFFF;\n",
              "    }\n",
              "  </style>\n",
              "\n",
              "    <script>\n",
              "      const buttonEl =\n",
              "        document.querySelector('#df-75468bb8-9f1e-45ad-9971-4811e1cc75a4 button.colab-df-convert');\n",
              "      buttonEl.style.display =\n",
              "        google.colab.kernel.accessAllowed ? 'block' : 'none';\n",
              "\n",
              "      async function convertToInteractive(key) {\n",
              "        const element = document.querySelector('#df-75468bb8-9f1e-45ad-9971-4811e1cc75a4');\n",
              "        const dataTable =\n",
              "          await google.colab.kernel.invokeFunction('convertToInteractive',\n",
              "                                                    [key], {});\n",
              "        if (!dataTable) return;\n",
              "\n",
              "        const docLinkHtml = 'Like what you see? Visit the ' +\n",
              "          '<a target=\"_blank\" href=https://colab.research.google.com/notebooks/data_table.ipynb>data table notebook</a>'\n",
              "          + ' to learn more about interactive tables.';\n",
              "        element.innerHTML = '';\n",
              "        dataTable['output_type'] = 'display_data';\n",
              "        await google.colab.output.renderOutput(dataTable, element);\n",
              "        const docLink = document.createElement('div');\n",
              "        docLink.innerHTML = docLinkHtml;\n",
              "        element.appendChild(docLink);\n",
              "      }\n",
              "    </script>\n",
              "  </div>\n",
              "\n",
              "\n",
              "<div id=\"df-ce7285a1-8b55-4140-9966-871fcb50f2a0\">\n",
              "  <button class=\"colab-df-quickchart\" onclick=\"quickchart('df-ce7285a1-8b55-4140-9966-871fcb50f2a0')\"\n",
              "            title=\"Suggest charts.\"\n",
              "            style=\"display:none;\">\n",
              "\n",
              "<svg xmlns=\"http://www.w3.org/2000/svg\" height=\"24px\"viewBox=\"0 0 24 24\"\n",
              "     width=\"24px\">\n",
              "    <g>\n",
              "        <path d=\"M19 3H5c-1.1 0-2 .9-2 2v14c0 1.1.9 2 2 2h14c1.1 0 2-.9 2-2V5c0-1.1-.9-2-2-2zM9 17H7v-7h2v7zm4 0h-2V7h2v10zm4 0h-2v-4h2v4z\"/>\n",
              "    </g>\n",
              "</svg>\n",
              "  </button>\n",
              "\n",
              "<style>\n",
              "  .colab-df-quickchart {\n",
              "    background-color: #E8F0FE;\n",
              "    border: none;\n",
              "    border-radius: 50%;\n",
              "    cursor: pointer;\n",
              "    display: none;\n",
              "    fill: #1967D2;\n",
              "    height: 32px;\n",
              "    padding: 0 0 0 0;\n",
              "    width: 32px;\n",
              "  }\n",
              "\n",
              "  .colab-df-quickchart:hover {\n",
              "    background-color: #E2EBFA;\n",
              "    box-shadow: 0px 1px 2px rgba(60, 64, 67, 0.3), 0px 1px 3px 1px rgba(60, 64, 67, 0.15);\n",
              "    fill: #174EA6;\n",
              "  }\n",
              "\n",
              "  [theme=dark] .colab-df-quickchart {\n",
              "    background-color: #3B4455;\n",
              "    fill: #D2E3FC;\n",
              "  }\n",
              "\n",
              "  [theme=dark] .colab-df-quickchart:hover {\n",
              "    background-color: #434B5C;\n",
              "    box-shadow: 0px 1px 3px 1px rgba(0, 0, 0, 0.15);\n",
              "    filter: drop-shadow(0px 1px 2px rgba(0, 0, 0, 0.3));\n",
              "    fill: #FFFFFF;\n",
              "  }\n",
              "</style>\n",
              "\n",
              "  <script>\n",
              "    async function quickchart(key) {\n",
              "      const charts = await google.colab.kernel.invokeFunction(\n",
              "          'suggestCharts', [key], {});\n",
              "    }\n",
              "    (() => {\n",
              "      let quickchartButtonEl =\n",
              "        document.querySelector('#df-ce7285a1-8b55-4140-9966-871fcb50f2a0 button');\n",
              "      quickchartButtonEl.style.display =\n",
              "        google.colab.kernel.accessAllowed ? 'block' : 'none';\n",
              "    })();\n",
              "  </script>\n",
              "</div>\n",
              "    </div>\n",
              "  </div>\n"
            ]
          },
          "metadata": {},
          "execution_count": 9
        }
      ]
    },
    {
      "cell_type": "markdown",
      "source": [
        "# **Feature Transformation**\n",
        "\n",
        "Feature transformation is a mathematical transformation in which we apply a mathematical formula to a particular column (feature) and transform the values, which are useful for our further analysis. It is a technique by which we can boost our model performance. It is also known as Feature Engineering, which creates new features from existing features that may help improve the model performance.\n",
        "\n",
        "\n"
      ],
      "metadata": {
        "id": "9RY4QV5IEA9A"
      }
    },
    {
      "cell_type": "markdown",
      "source": [
        "# **There are many techniques for feature transformation like-**\n",
        "---\n",
        "1.**Normalization**\n",
        "---\n",
        "2.**Standardization**\n",
        "---\n",
        "3.**Log Transformation**\n",
        "---\n",
        "4.**Robust Scaler**\n",
        "---\n",
        "5.**Max Absoule Scaler**\n",
        "---\n",
        "\n",
        "\n",
        "\n",
        "\n",
        "\n",
        "\n"
      ],
      "metadata": {
        "id": "pPMG8zd8Eg6H"
      }
    },
    {
      "cell_type": "markdown",
      "source": [
        "# **Normalization**\n",
        "\n",
        "> Normalization is a technique often applied as part of data preparation for machine learning. The goal of normalization is to change the values of numeric columns in the dataset to use a common scale, without distorting differences in the ranges of values or losing information.\n",
        "---\n",
        "\n",
        "![ruy6L.png](data:image/png;base64,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)\n",
        "\n",
        "\n",
        "\n",
        "\n",
        "\n"
      ],
      "metadata": {
        "id": "u1yq2-AGF_6U"
      }
    },
    {
      "cell_type": "code",
      "source": [
        "from sklearn.preprocessing import MinMaxScaler"
      ],
      "metadata": {
        "id": "zjDUC2hZBxTH"
      },
      "execution_count": 10,
      "outputs": []
    },
    {
      "cell_type": "code",
      "source": [
        "#Creating Object\n",
        "scaler=MinMaxScaler()"
      ],
      "metadata": {
        "id": "ORCiD1HzBxP3"
      },
      "execution_count": 11,
      "outputs": []
    },
    {
      "cell_type": "code",
      "source": [
        "#fit data\n",
        "fit_mar_sp=scaler.fit(x[[\"Marketing Spend\"]])\n",
        "fit_mar_sp"
      ],
      "metadata": {
        "colab": {
          "base_uri": "https://localhost:8080/",
          "height": 75
        },
        "id": "ZJGafRLYBxMu",
        "outputId": "2bfb1963-dc7c-4c34-eb88-a34c3f15f0be"
      },
      "execution_count": 12,
      "outputs": [
        {
          "output_type": "execute_result",
          "data": {
            "text/plain": [
              "MinMaxScaler()"
            ],
            "text/html": [
              "<style>#sk-container-id-1 {color: black;background-color: white;}#sk-container-id-1 pre{padding: 0;}#sk-container-id-1 div.sk-toggleable {background-color: white;}#sk-container-id-1 label.sk-toggleable__label {cursor: pointer;display: block;width: 100%;margin-bottom: 0;padding: 0.3em;box-sizing: border-box;text-align: center;}#sk-container-id-1 label.sk-toggleable__label-arrow:before {content: \"▸\";float: left;margin-right: 0.25em;color: #696969;}#sk-container-id-1 label.sk-toggleable__label-arrow:hover:before {color: black;}#sk-container-id-1 div.sk-estimator:hover label.sk-toggleable__label-arrow:before {color: black;}#sk-container-id-1 div.sk-toggleable__content {max-height: 0;max-width: 0;overflow: hidden;text-align: left;background-color: #f0f8ff;}#sk-container-id-1 div.sk-toggleable__content pre {margin: 0.2em;color: black;border-radius: 0.25em;background-color: #f0f8ff;}#sk-container-id-1 input.sk-toggleable__control:checked~div.sk-toggleable__content {max-height: 200px;max-width: 100%;overflow: auto;}#sk-container-id-1 input.sk-toggleable__control:checked~label.sk-toggleable__label-arrow:before {content: \"▾\";}#sk-container-id-1 div.sk-estimator input.sk-toggleable__control:checked~label.sk-toggleable__label {background-color: #d4ebff;}#sk-container-id-1 div.sk-label input.sk-toggleable__control:checked~label.sk-toggleable__label {background-color: #d4ebff;}#sk-container-id-1 input.sk-hidden--visually {border: 0;clip: rect(1px 1px 1px 1px);clip: rect(1px, 1px, 1px, 1px);height: 1px;margin: -1px;overflow: hidden;padding: 0;position: absolute;width: 1px;}#sk-container-id-1 div.sk-estimator {font-family: monospace;background-color: #f0f8ff;border: 1px dotted black;border-radius: 0.25em;box-sizing: border-box;margin-bottom: 0.5em;}#sk-container-id-1 div.sk-estimator:hover {background-color: #d4ebff;}#sk-container-id-1 div.sk-parallel-item::after {content: \"\";width: 100%;border-bottom: 1px solid gray;flex-grow: 1;}#sk-container-id-1 div.sk-label:hover label.sk-toggleable__label {background-color: #d4ebff;}#sk-container-id-1 div.sk-serial::before {content: \"\";position: absolute;border-left: 1px solid gray;box-sizing: border-box;top: 0;bottom: 0;left: 50%;z-index: 0;}#sk-container-id-1 div.sk-serial {display: flex;flex-direction: column;align-items: center;background-color: white;padding-right: 0.2em;padding-left: 0.2em;position: relative;}#sk-container-id-1 div.sk-item {position: relative;z-index: 1;}#sk-container-id-1 div.sk-parallel {display: flex;align-items: stretch;justify-content: center;background-color: white;position: relative;}#sk-container-id-1 div.sk-item::before, #sk-container-id-1 div.sk-parallel-item::before {content: \"\";position: absolute;border-left: 1px solid gray;box-sizing: border-box;top: 0;bottom: 0;left: 50%;z-index: -1;}#sk-container-id-1 div.sk-parallel-item {display: flex;flex-direction: column;z-index: 1;position: relative;background-color: white;}#sk-container-id-1 div.sk-parallel-item:first-child::after {align-self: flex-end;width: 50%;}#sk-container-id-1 div.sk-parallel-item:last-child::after {align-self: flex-start;width: 50%;}#sk-container-id-1 div.sk-parallel-item:only-child::after {width: 0;}#sk-container-id-1 div.sk-dashed-wrapped {border: 1px dashed gray;margin: 0 0.4em 0.5em 0.4em;box-sizing: border-box;padding-bottom: 0.4em;background-color: white;}#sk-container-id-1 div.sk-label label {font-family: monospace;font-weight: bold;display: inline-block;line-height: 1.2em;}#sk-container-id-1 div.sk-label-container {text-align: center;}#sk-container-id-1 div.sk-container {/* jupyter's `normalize.less` sets `[hidden] { display: none; }` but bootstrap.min.css set `[hidden] { display: none !important; }` so we also need the `!important` here to be able to override the default hidden behavior on the sphinx rendered scikit-learn.org. See: https://github.com/scikit-learn/scikit-learn/issues/21755 */display: inline-block !important;position: relative;}#sk-container-id-1 div.sk-text-repr-fallback {display: none;}</style><div id=\"sk-container-id-1\" class=\"sk-top-container\"><div class=\"sk-text-repr-fallback\"><pre>MinMaxScaler()</pre><b>In a Jupyter environment, please rerun this cell to show the HTML representation or trust the notebook. <br />On GitHub, the HTML representation is unable to render, please try loading this page with nbviewer.org.</b></div><div class=\"sk-container\" hidden><div class=\"sk-item\"><div class=\"sk-estimator sk-toggleable\"><input class=\"sk-toggleable__control sk-hidden--visually\" id=\"sk-estimator-id-1\" type=\"checkbox\" checked><label for=\"sk-estimator-id-1\" class=\"sk-toggleable__label sk-toggleable__label-arrow\">MinMaxScaler</label><div class=\"sk-toggleable__content\"><pre>MinMaxScaler()</pre></div></div></div></div></div>"
            ]
          },
          "metadata": {},
          "execution_count": 12
        }
      ]
    },
    {
      "cell_type": "code",
      "source": [
        "x[\"Marketing Spend\"]=scaler.transform(x[[\"Marketing Spend\"]])\n"
      ],
      "metadata": {
        "id": "OJ3WTxiwBxJX"
      },
      "execution_count": 13,
      "outputs": []
    },
    {
      "cell_type": "code",
      "source": [
        "x[\"Marketing Spend\"].head()"
      ],
      "metadata": {
        "colab": {
          "base_uri": "https://localhost:8080/"
        },
        "id": "07J9bVWpBxCQ",
        "outputId": "65828a55-52e0-4a18-a929-4bffd7144603"
      },
      "execution_count": 14,
      "outputs": [
        {
          "output_type": "execute_result",
          "data": {
            "text/plain": [
              "0    0.692617\n",
              "1    0.983359\n",
              "2    0.927985\n",
              "3    0.873136\n",
              "4    0.859438\n",
              "Name: Marketing Spend, dtype: float64"
            ]
          },
          "metadata": {},
          "execution_count": 14
        }
      ]
    },
    {
      "cell_type": "markdown",
      "source": [
        "# **OR**\n",
        "> **Directly Using fit_transform**\n",
        "\n"
      ],
      "metadata": {
        "id": "Teqnk6WdIxDY"
      }
    },
    {
      "cell_type": "code",
      "source": [
        "x[\"Administration\"]=scaler.fit_transform(x[[\"Administration\"]])"
      ],
      "metadata": {
        "id": "3dmm-rN8Bw-Z"
      },
      "execution_count": 15,
      "outputs": []
    },
    {
      "cell_type": "code",
      "source": [
        "x[\"Administration\"].head()"
      ],
      "metadata": {
        "colab": {
          "base_uri": "https://localhost:8080/"
        },
        "id": "jl-5CG_FBw4m",
        "outputId": "14ac6fce-79fc-4474-b236-3ce3eb633a35"
      },
      "execution_count": 16,
      "outputs": [
        {
          "output_type": "execute_result",
          "data": {
            "text/plain": [
              "0    0.651744\n",
              "1    0.761972\n",
              "2    0.379579\n",
              "3    0.512998\n",
              "4    0.305328\n",
              "Name: Administration, dtype: float64"
            ]
          },
          "metadata": {},
          "execution_count": 16
        }
      ]
    },
    {
      "cell_type": "markdown",
      "source": [
        "# **Another Way**"
      ],
      "metadata": {
        "id": "0ap4nJv6Mv6Y"
      }
    },
    {
      "cell_type": "code",
      "source": [
        "#Select col to Normalize\n",
        "col_normalize= ['Marketing Spend', 'Administration', 'Transport']"
      ],
      "metadata": {
        "id": "PcBABMnHBwrv"
      },
      "execution_count": 17,
      "outputs": []
    },
    {
      "cell_type": "code",
      "source": [
        "df[col_normalize]=scaler.fit_transform(df[col_normalize])"
      ],
      "metadata": {
        "id": "8A8L5-cXN3AF"
      },
      "execution_count": 18,
      "outputs": []
    },
    {
      "cell_type": "code",
      "source": [
        "df[col_normalize].head()"
      ],
      "metadata": {
        "colab": {
          "base_uri": "https://localhost:8080/",
          "height": 206
        },
        "id": "4RB3SgsbN28y",
        "outputId": "43230e8f-b8c7-4cc1-9d37-d054b00283a2"
      },
      "execution_count": 19,
      "outputs": [
        {
          "output_type": "execute_result",
          "data": {
            "text/plain": [
              "   Marketing Spend  Administration  Transport\n",
              "0         0.692617        0.651744   1.000000\n",
              "1         0.983359        0.761972   0.940893\n",
              "2         0.927985        0.379579   0.864664\n",
              "3         0.873136        0.512998   0.812235\n",
              "4         0.859438        0.305328   0.776136"
            ],
            "text/html": [
              "\n",
              "  <div id=\"df-d3ad0d27-2780-4bd8-a727-5490e48822ed\" class=\"colab-df-container\">\n",
              "    <div>\n",
              "<style scoped>\n",
              "    .dataframe tbody tr th:only-of-type {\n",
              "        vertical-align: middle;\n",
              "    }\n",
              "\n",
              "    .dataframe tbody tr th {\n",
              "        vertical-align: top;\n",
              "    }\n",
              "\n",
              "    .dataframe thead th {\n",
              "        text-align: right;\n",
              "    }\n",
              "</style>\n",
              "<table border=\"1\" class=\"dataframe\">\n",
              "  <thead>\n",
              "    <tr style=\"text-align: right;\">\n",
              "      <th></th>\n",
              "      <th>Marketing Spend</th>\n",
              "      <th>Administration</th>\n",
              "      <th>Transport</th>\n",
              "    </tr>\n",
              "  </thead>\n",
              "  <tbody>\n",
              "    <tr>\n",
              "      <th>0</th>\n",
              "      <td>0.692617</td>\n",
              "      <td>0.651744</td>\n",
              "      <td>1.000000</td>\n",
              "    </tr>\n",
              "    <tr>\n",
              "      <th>1</th>\n",
              "      <td>0.983359</td>\n",
              "      <td>0.761972</td>\n",
              "      <td>0.940893</td>\n",
              "    </tr>\n",
              "    <tr>\n",
              "      <th>2</th>\n",
              "      <td>0.927985</td>\n",
              "      <td>0.379579</td>\n",
              "      <td>0.864664</td>\n",
              "    </tr>\n",
              "    <tr>\n",
              "      <th>3</th>\n",
              "      <td>0.873136</td>\n",
              "      <td>0.512998</td>\n",
              "      <td>0.812235</td>\n",
              "    </tr>\n",
              "    <tr>\n",
              "      <th>4</th>\n",
              "      <td>0.859438</td>\n",
              "      <td>0.305328</td>\n",
              "      <td>0.776136</td>\n",
              "    </tr>\n",
              "  </tbody>\n",
              "</table>\n",
              "</div>\n",
              "    <div class=\"colab-df-buttons\">\n",
              "\n",
              "  <div class=\"colab-df-container\">\n",
              "    <button class=\"colab-df-convert\" onclick=\"convertToInteractive('df-d3ad0d27-2780-4bd8-a727-5490e48822ed')\"\n",
              "            title=\"Convert this dataframe to an interactive table.\"\n",
              "            style=\"display:none;\">\n",
              "\n",
              "  <svg xmlns=\"http://www.w3.org/2000/svg\" height=\"24px\" viewBox=\"0 -960 960 960\">\n",
              "    <path d=\"M120-120v-720h720v720H120Zm60-500h600v-160H180v160Zm220 220h160v-160H400v160Zm0 220h160v-160H400v160ZM180-400h160v-160H180v160Zm440 0h160v-160H620v160ZM180-180h160v-160H180v160Zm440 0h160v-160H620v160Z\"/>\n",
              "  </svg>\n",
              "    </button>\n",
              "\n",
              "  <style>\n",
              "    .colab-df-container {\n",
              "      display:flex;\n",
              "      gap: 12px;\n",
              "    }\n",
              "\n",
              "    .colab-df-convert {\n",
              "      background-color: #E8F0FE;\n",
              "      border: none;\n",
              "      border-radius: 50%;\n",
              "      cursor: pointer;\n",
              "      display: none;\n",
              "      fill: #1967D2;\n",
              "      height: 32px;\n",
              "      padding: 0 0 0 0;\n",
              "      width: 32px;\n",
              "    }\n",
              "\n",
              "    .colab-df-convert:hover {\n",
              "      background-color: #E2EBFA;\n",
              "      box-shadow: 0px 1px 2px rgba(60, 64, 67, 0.3), 0px 1px 3px 1px rgba(60, 64, 67, 0.15);\n",
              "      fill: #174EA6;\n",
              "    }\n",
              "\n",
              "    .colab-df-buttons div {\n",
              "      margin-bottom: 4px;\n",
              "    }\n",
              "\n",
              "    [theme=dark] .colab-df-convert {\n",
              "      background-color: #3B4455;\n",
              "      fill: #D2E3FC;\n",
              "    }\n",
              "\n",
              "    [theme=dark] .colab-df-convert:hover {\n",
              "      background-color: #434B5C;\n",
              "      box-shadow: 0px 1px 3px 1px rgba(0, 0, 0, 0.15);\n",
              "      filter: drop-shadow(0px 1px 2px rgba(0, 0, 0, 0.3));\n",
              "      fill: #FFFFFF;\n",
              "    }\n",
              "  </style>\n",
              "\n",
              "    <script>\n",
              "      const buttonEl =\n",
              "        document.querySelector('#df-d3ad0d27-2780-4bd8-a727-5490e48822ed button.colab-df-convert');\n",
              "      buttonEl.style.display =\n",
              "        google.colab.kernel.accessAllowed ? 'block' : 'none';\n",
              "\n",
              "      async function convertToInteractive(key) {\n",
              "        const element = document.querySelector('#df-d3ad0d27-2780-4bd8-a727-5490e48822ed');\n",
              "        const dataTable =\n",
              "          await google.colab.kernel.invokeFunction('convertToInteractive',\n",
              "                                                    [key], {});\n",
              "        if (!dataTable) return;\n",
              "\n",
              "        const docLinkHtml = 'Like what you see? Visit the ' +\n",
              "          '<a target=\"_blank\" href=https://colab.research.google.com/notebooks/data_table.ipynb>data table notebook</a>'\n",
              "          + ' to learn more about interactive tables.';\n",
              "        element.innerHTML = '';\n",
              "        dataTable['output_type'] = 'display_data';\n",
              "        await google.colab.output.renderOutput(dataTable, element);\n",
              "        const docLink = document.createElement('div');\n",
              "        docLink.innerHTML = docLinkHtml;\n",
              "        element.appendChild(docLink);\n",
              "      }\n",
              "    </script>\n",
              "  </div>\n",
              "\n",
              "\n",
              "<div id=\"df-03fab0b6-c685-4cd0-8ff3-8710f82d4d0b\">\n",
              "  <button class=\"colab-df-quickchart\" onclick=\"quickchart('df-03fab0b6-c685-4cd0-8ff3-8710f82d4d0b')\"\n",
              "            title=\"Suggest charts.\"\n",
              "            style=\"display:none;\">\n",
              "\n",
              "<svg xmlns=\"http://www.w3.org/2000/svg\" height=\"24px\"viewBox=\"0 0 24 24\"\n",
              "     width=\"24px\">\n",
              "    <g>\n",
              "        <path d=\"M19 3H5c-1.1 0-2 .9-2 2v14c0 1.1.9 2 2 2h14c1.1 0 2-.9 2-2V5c0-1.1-.9-2-2-2zM9 17H7v-7h2v7zm4 0h-2V7h2v10zm4 0h-2v-4h2v4z\"/>\n",
              "    </g>\n",
              "</svg>\n",
              "  </button>\n",
              "\n",
              "<style>\n",
              "  .colab-df-quickchart {\n",
              "    background-color: #E8F0FE;\n",
              "    border: none;\n",
              "    border-radius: 50%;\n",
              "    cursor: pointer;\n",
              "    display: none;\n",
              "    fill: #1967D2;\n",
              "    height: 32px;\n",
              "    padding: 0 0 0 0;\n",
              "    width: 32px;\n",
              "  }\n",
              "\n",
              "  .colab-df-quickchart:hover {\n",
              "    background-color: #E2EBFA;\n",
              "    box-shadow: 0px 1px 2px rgba(60, 64, 67, 0.3), 0px 1px 3px 1px rgba(60, 64, 67, 0.15);\n",
              "    fill: #174EA6;\n",
              "  }\n",
              "\n",
              "  [theme=dark] .colab-df-quickchart {\n",
              "    background-color: #3B4455;\n",
              "    fill: #D2E3FC;\n",
              "  }\n",
              "\n",
              "  [theme=dark] .colab-df-quickchart:hover {\n",
              "    background-color: #434B5C;\n",
              "    box-shadow: 0px 1px 3px 1px rgba(0, 0, 0, 0.15);\n",
              "    filter: drop-shadow(0px 1px 2px rgba(0, 0, 0, 0.3));\n",
              "    fill: #FFFFFF;\n",
              "  }\n",
              "</style>\n",
              "\n",
              "  <script>\n",
              "    async function quickchart(key) {\n",
              "      const charts = await google.colab.kernel.invokeFunction(\n",
              "          'suggestCharts', [key], {});\n",
              "    }\n",
              "    (() => {\n",
              "      let quickchartButtonEl =\n",
              "        document.querySelector('#df-03fab0b6-c685-4cd0-8ff3-8710f82d4d0b button');\n",
              "      quickchartButtonEl.style.display =\n",
              "        google.colab.kernel.accessAllowed ? 'block' : 'none';\n",
              "    })();\n",
              "  </script>\n",
              "</div>\n",
              "    </div>\n",
              "  </div>\n"
            ]
          },
          "metadata": {},
          "execution_count": 19
        }
      ]
    },
    {
      "cell_type": "markdown",
      "source": [
        "# **for Loop**"
      ],
      "metadata": {
        "id": "2hZNZ8RXG3wF"
      }
    },
    {
      "cell_type": "code",
      "source": [
        "x1=x.copy()"
      ],
      "metadata": {
        "id": "Hfb9MUHlGg4q"
      },
      "execution_count": 20,
      "outputs": []
    },
    {
      "cell_type": "code",
      "source": [
        "for column in x1.columns:\n",
        "  if x1[column].dtype==object:\n",
        "    continue\n",
        "  else:\n",
        "    scaler.fit(x1[[column]])\n",
        "    x1[column]=scaler.transform(x1[[column]])\n",
        "print(x1.head())"
      ],
      "metadata": {
        "colab": {
          "base_uri": "https://localhost:8080/"
        },
        "id": "UxWPGyHfGgyv",
        "outputId": "98519b55-8acd-4582-c64e-ae5c7c61b46c"
      },
      "execution_count": 21,
      "outputs": [
        {
          "output_type": "stream",
          "name": "stdout",
          "text": [
            "   Marketing Spend  Administration  Transport     Area\n",
            "0         0.692617        0.651744   1.000000    Dhaka\n",
            "1         0.983359        0.761972   0.940893      Ctg\n",
            "2         0.927985        0.379579   0.864664  Rangpur\n",
            "3         0.873136        0.512998   0.812235    Dhaka\n",
            "4         0.859438        0.305328   0.776136  Rangpur\n"
          ]
        }
      ]
    },
    {
      "cell_type": "markdown",
      "source": [
        "# **Manually**"
      ],
      "metadata": {
        "id": "Q2kMNwuOW7OT"
      }
    },
    {
      "cell_type": "code",
      "source": [
        "#Read the Dataset\n",
        "df=pd.read_csv(\"/content/drive/MyDrive/Data/supershops.csv\")"
      ],
      "metadata": {
        "id": "PrRuHHNIT716"
      },
      "execution_count": 22,
      "outputs": []
    },
    {
      "cell_type": "code",
      "source": [
        "df.head()"
      ],
      "metadata": {
        "colab": {
          "base_uri": "https://localhost:8080/",
          "height": 206
        },
        "id": "pmAITD7wWaYb",
        "outputId": "b3fe8aad-fce1-45aa-f928-744059cfdf11"
      },
      "execution_count": 23,
      "outputs": [
        {
          "output_type": "execute_result",
          "data": {
            "text/plain": [
              "   Marketing Spend  Administration  Transport     Area     Profit\n",
              "0        114523.61       136897.80  471784.10    Dhaka  192261.83\n",
              "1        162597.70       151377.59  443898.53      Ctg  191792.06\n",
              "2        153441.51       101145.55  407934.54  Rangpur  191050.39\n",
              "3        144372.41       118671.85  383199.62    Dhaka  182901.99\n",
              "4        142107.34        91391.77  366168.42  Rangpur  166187.94"
            ],
            "text/html": [
              "\n",
              "  <div id=\"df-77e4eff0-b0cf-4fff-9012-2205552f1993\" class=\"colab-df-container\">\n",
              "    <div>\n",
              "<style scoped>\n",
              "    .dataframe tbody tr th:only-of-type {\n",
              "        vertical-align: middle;\n",
              "    }\n",
              "\n",
              "    .dataframe tbody tr th {\n",
              "        vertical-align: top;\n",
              "    }\n",
              "\n",
              "    .dataframe thead th {\n",
              "        text-align: right;\n",
              "    }\n",
              "</style>\n",
              "<table border=\"1\" class=\"dataframe\">\n",
              "  <thead>\n",
              "    <tr style=\"text-align: right;\">\n",
              "      <th></th>\n",
              "      <th>Marketing Spend</th>\n",
              "      <th>Administration</th>\n",
              "      <th>Transport</th>\n",
              "      <th>Area</th>\n",
              "      <th>Profit</th>\n",
              "    </tr>\n",
              "  </thead>\n",
              "  <tbody>\n",
              "    <tr>\n",
              "      <th>0</th>\n",
              "      <td>114523.61</td>\n",
              "      <td>136897.80</td>\n",
              "      <td>471784.10</td>\n",
              "      <td>Dhaka</td>\n",
              "      <td>192261.83</td>\n",
              "    </tr>\n",
              "    <tr>\n",
              "      <th>1</th>\n",
              "      <td>162597.70</td>\n",
              "      <td>151377.59</td>\n",
              "      <td>443898.53</td>\n",
              "      <td>Ctg</td>\n",
              "      <td>191792.06</td>\n",
              "    </tr>\n",
              "    <tr>\n",
              "      <th>2</th>\n",
              "      <td>153441.51</td>\n",
              "      <td>101145.55</td>\n",
              "      <td>407934.54</td>\n",
              "      <td>Rangpur</td>\n",
              "      <td>191050.39</td>\n",
              "    </tr>\n",
              "    <tr>\n",
              "      <th>3</th>\n",
              "      <td>144372.41</td>\n",
              "      <td>118671.85</td>\n",
              "      <td>383199.62</td>\n",
              "      <td>Dhaka</td>\n",
              "      <td>182901.99</td>\n",
              "    </tr>\n",
              "    <tr>\n",
              "      <th>4</th>\n",
              "      <td>142107.34</td>\n",
              "      <td>91391.77</td>\n",
              "      <td>366168.42</td>\n",
              "      <td>Rangpur</td>\n",
              "      <td>166187.94</td>\n",
              "    </tr>\n",
              "  </tbody>\n",
              "</table>\n",
              "</div>\n",
              "    <div class=\"colab-df-buttons\">\n",
              "\n",
              "  <div class=\"colab-df-container\">\n",
              "    <button class=\"colab-df-convert\" onclick=\"convertToInteractive('df-77e4eff0-b0cf-4fff-9012-2205552f1993')\"\n",
              "            title=\"Convert this dataframe to an interactive table.\"\n",
              "            style=\"display:none;\">\n",
              "\n",
              "  <svg xmlns=\"http://www.w3.org/2000/svg\" height=\"24px\" viewBox=\"0 -960 960 960\">\n",
              "    <path d=\"M120-120v-720h720v720H120Zm60-500h600v-160H180v160Zm220 220h160v-160H400v160Zm0 220h160v-160H400v160ZM180-400h160v-160H180v160Zm440 0h160v-160H620v160ZM180-180h160v-160H180v160Zm440 0h160v-160H620v160Z\"/>\n",
              "  </svg>\n",
              "    </button>\n",
              "\n",
              "  <style>\n",
              "    .colab-df-container {\n",
              "      display:flex;\n",
              "      gap: 12px;\n",
              "    }\n",
              "\n",
              "    .colab-df-convert {\n",
              "      background-color: #E8F0FE;\n",
              "      border: none;\n",
              "      border-radius: 50%;\n",
              "      cursor: pointer;\n",
              "      display: none;\n",
              "      fill: #1967D2;\n",
              "      height: 32px;\n",
              "      padding: 0 0 0 0;\n",
              "      width: 32px;\n",
              "    }\n",
              "\n",
              "    .colab-df-convert:hover {\n",
              "      background-color: #E2EBFA;\n",
              "      box-shadow: 0px 1px 2px rgba(60, 64, 67, 0.3), 0px 1px 3px 1px rgba(60, 64, 67, 0.15);\n",
              "      fill: #174EA6;\n",
              "    }\n",
              "\n",
              "    .colab-df-buttons div {\n",
              "      margin-bottom: 4px;\n",
              "    }\n",
              "\n",
              "    [theme=dark] .colab-df-convert {\n",
              "      background-color: #3B4455;\n",
              "      fill: #D2E3FC;\n",
              "    }\n",
              "\n",
              "    [theme=dark] .colab-df-convert:hover {\n",
              "      background-color: #434B5C;\n",
              "      box-shadow: 0px 1px 3px 1px rgba(0, 0, 0, 0.15);\n",
              "      filter: drop-shadow(0px 1px 2px rgba(0, 0, 0, 0.3));\n",
              "      fill: #FFFFFF;\n",
              "    }\n",
              "  </style>\n",
              "\n",
              "    <script>\n",
              "      const buttonEl =\n",
              "        document.querySelector('#df-77e4eff0-b0cf-4fff-9012-2205552f1993 button.colab-df-convert');\n",
              "      buttonEl.style.display =\n",
              "        google.colab.kernel.accessAllowed ? 'block' : 'none';\n",
              "\n",
              "      async function convertToInteractive(key) {\n",
              "        const element = document.querySelector('#df-77e4eff0-b0cf-4fff-9012-2205552f1993');\n",
              "        const dataTable =\n",
              "          await google.colab.kernel.invokeFunction('convertToInteractive',\n",
              "                                                    [key], {});\n",
              "        if (!dataTable) return;\n",
              "\n",
              "        const docLinkHtml = 'Like what you see? Visit the ' +\n",
              "          '<a target=\"_blank\" href=https://colab.research.google.com/notebooks/data_table.ipynb>data table notebook</a>'\n",
              "          + ' to learn more about interactive tables.';\n",
              "        element.innerHTML = '';\n",
              "        dataTable['output_type'] = 'display_data';\n",
              "        await google.colab.output.renderOutput(dataTable, element);\n",
              "        const docLink = document.createElement('div');\n",
              "        docLink.innerHTML = docLinkHtml;\n",
              "        element.appendChild(docLink);\n",
              "      }\n",
              "    </script>\n",
              "  </div>\n",
              "\n",
              "\n",
              "<div id=\"df-9d050494-0282-4da6-a548-d1fd5c48b562\">\n",
              "  <button class=\"colab-df-quickchart\" onclick=\"quickchart('df-9d050494-0282-4da6-a548-d1fd5c48b562')\"\n",
              "            title=\"Suggest charts.\"\n",
              "            style=\"display:none;\">\n",
              "\n",
              "<svg xmlns=\"http://www.w3.org/2000/svg\" height=\"24px\"viewBox=\"0 0 24 24\"\n",
              "     width=\"24px\">\n",
              "    <g>\n",
              "        <path d=\"M19 3H5c-1.1 0-2 .9-2 2v14c0 1.1.9 2 2 2h14c1.1 0 2-.9 2-2V5c0-1.1-.9-2-2-2zM9 17H7v-7h2v7zm4 0h-2V7h2v10zm4 0h-2v-4h2v4z\"/>\n",
              "    </g>\n",
              "</svg>\n",
              "  </button>\n",
              "\n",
              "<style>\n",
              "  .colab-df-quickchart {\n",
              "    background-color: #E8F0FE;\n",
              "    border: none;\n",
              "    border-radius: 50%;\n",
              "    cursor: pointer;\n",
              "    display: none;\n",
              "    fill: #1967D2;\n",
              "    height: 32px;\n",
              "    padding: 0 0 0 0;\n",
              "    width: 32px;\n",
              "  }\n",
              "\n",
              "  .colab-df-quickchart:hover {\n",
              "    background-color: #E2EBFA;\n",
              "    box-shadow: 0px 1px 2px rgba(60, 64, 67, 0.3), 0px 1px 3px 1px rgba(60, 64, 67, 0.15);\n",
              "    fill: #174EA6;\n",
              "  }\n",
              "\n",
              "  [theme=dark] .colab-df-quickchart {\n",
              "    background-color: #3B4455;\n",
              "    fill: #D2E3FC;\n",
              "  }\n",
              "\n",
              "  [theme=dark] .colab-df-quickchart:hover {\n",
              "    background-color: #434B5C;\n",
              "    box-shadow: 0px 1px 3px 1px rgba(0, 0, 0, 0.15);\n",
              "    filter: drop-shadow(0px 1px 2px rgba(0, 0, 0, 0.3));\n",
              "    fill: #FFFFFF;\n",
              "  }\n",
              "</style>\n",
              "\n",
              "  <script>\n",
              "    async function quickchart(key) {\n",
              "      const charts = await google.colab.kernel.invokeFunction(\n",
              "          'suggestCharts', [key], {});\n",
              "    }\n",
              "    (() => {\n",
              "      let quickchartButtonEl =\n",
              "        document.querySelector('#df-9d050494-0282-4da6-a548-d1fd5c48b562 button');\n",
              "      quickchartButtonEl.style.display =\n",
              "        google.colab.kernel.accessAllowed ? 'block' : 'none';\n",
              "    })();\n",
              "  </script>\n",
              "</div>\n",
              "    </div>\n",
              "  </div>\n"
            ]
          },
          "metadata": {},
          "execution_count": 23
        }
      ]
    },
    {
      "cell_type": "code",
      "source": [
        "#Define Function\n",
        "\n",
        "def Normalized(orginal):\n",
        "  new_value=(orginal-orginal.min())/(orginal.max()-orginal.min())\n",
        "  return new_value"
      ],
      "metadata": {
        "id": "X1Xlb0MPVMky"
      },
      "execution_count": 24,
      "outputs": []
    },
    {
      "cell_type": "code",
      "source": [
        "#The \"Markenting Spend\" Column convert Numpy array\n",
        "array=df[\"Marketing Spend\"].to_numpy()"
      ],
      "metadata": {
        "id": "hJfhn8rYOlj7"
      },
      "execution_count": 25,
      "outputs": []
    },
    {
      "cell_type": "code",
      "source": [
        "a=array"
      ],
      "metadata": {
        "id": "GFZs-ngGOlhA"
      },
      "execution_count": 26,
      "outputs": []
    },
    {
      "cell_type": "code",
      "source": [
        "a"
      ],
      "metadata": {
        "colab": {
          "base_uri": "https://localhost:8080/"
        },
        "id": "ehZaqHJXOleC",
        "outputId": "d85132c6-1841-4ad4-932f-042049e9480e"
      },
      "execution_count": 27,
      "outputs": [
        {
          "output_type": "execute_result",
          "data": {
            "text/plain": [
              "array([114523.61, 162597.7 , 153441.51, 144372.41, 142107.34, 131876.9 ,\n",
              "       134615.46, 130298.13, 120542.52, 123334.88, 101913.08, 100671.96,\n",
              "        93863.75,  91992.39, 119943.24, 165349.2 ,  78013.11,  94657.16,\n",
              "        91749.16,  86419.7 ,  76253.86,  78389.47,  73994.56,  67532.53,\n",
              "        77044.01,  64664.71,  75328.87,  72107.6 ,  66051.52,  65605.48,\n",
              "        61994.48,  61136.38,  63408.86,  55493.95,  46426.07,  46014.02,\n",
              "        28663.76,  44069.95,  20229.59,  38558.51,  28754.33,  27892.92,\n",
              "        23640.93,  15505.73,  22177.74,   1000.23,   1315.46,      0.  ,\n",
              "          542.05,      0.  ])"
            ]
          },
          "metadata": {},
          "execution_count": 27
        }
      ]
    },
    {
      "cell_type": "code",
      "source": [
        "Normalized(a)"
      ],
      "metadata": {
        "colab": {
          "base_uri": "https://localhost:8080/"
        },
        "id": "7gNjRFrYOlUz",
        "outputId": "87bf2666-8a4b-47f1-9644-8c30f8b53430"
      },
      "execution_count": 28,
      "outputs": [
        {
          "output_type": "execute_result",
          "data": {
            "text/plain": [
              "array([0.69261666, 0.98335946, 0.92798459, 0.87313643, 0.85943772,\n",
              "       0.797566  , 0.81412828, 0.7880179 , 0.72901786, 0.74590551,\n",
              "       0.61635061, 0.60884455, 0.56766982, 0.55635219, 0.72539353,\n",
              "       1.        , 0.47180821, 0.57246821, 0.55488118, 0.52264964,\n",
              "       0.46116861, 0.47408436, 0.4475048 , 0.40842369, 0.46594728,\n",
              "       0.39107967, 0.45557444, 0.43609283, 0.39946683, 0.39676926,\n",
              "       0.37493063, 0.36974101, 0.38348453, 0.33561668, 0.2807759 ,\n",
              "       0.2782839 , 0.17335288, 0.26652654, 0.12234465, 0.23319442,\n",
              "       0.17390063, 0.16869099, 0.14297577, 0.09377566, 0.13412668,\n",
              "       0.0060492 , 0.00795565, 0.        , 0.00327821, 0.        ])"
            ]
          },
          "metadata": {},
          "execution_count": 28
        }
      ]
    },
    {
      "cell_type": "code",
      "source": [
        "#The \"Administration\" Column convert Numpy array\n",
        "array=df[\"Administration\"].to_numpy()"
      ],
      "metadata": {
        "id": "iTBmJKh2OlRY"
      },
      "execution_count": 29,
      "outputs": []
    },
    {
      "cell_type": "code",
      "source": [
        "b=array"
      ],
      "metadata": {
        "id": "yygtSKI2OlOD"
      },
      "execution_count": 30,
      "outputs": []
    },
    {
      "cell_type": "code",
      "source": [
        "b"
      ],
      "metadata": {
        "colab": {
          "base_uri": "https://localhost:8080/"
        },
        "id": "jOQtEMbxOlLD",
        "outputId": "251aee63-9274-4a71-f707-73cc2f190c73"
      },
      "execution_count": 31,
      "outputs": [
        {
          "output_type": "execute_result",
          "data": {
            "text/plain": [
              "array([136897.8 , 151377.59, 101145.55, 118671.85,  91391.77,  99814.71,\n",
              "       147198.87, 145530.06, 148718.95, 108679.17, 110594.11,  91790.61,\n",
              "       127320.38, 135495.07, 156547.42, 122616.84, 121597.55, 145077.58,\n",
              "       114175.79, 153514.11, 113867.3 , 153773.43, 122782.75, 105751.03,\n",
              "        99281.34, 139553.16, 144135.98, 127864.55, 182645.56, 153032.06,\n",
              "       115641.28, 152701.92, 129219.61, 103057.49, 157693.92,  85047.44,\n",
              "       127056.21,  51283.14,  65947.93,  82982.09, 118546.05,  84710.77,\n",
              "        96189.63, 127382.3 , 154806.14, 124153.04, 115816.21, 135426.92,\n",
              "        51743.15, 116983.8 ])"
            ]
          },
          "metadata": {},
          "execution_count": 31
        }
      ]
    },
    {
      "cell_type": "code",
      "source": [
        "Normalized(b)"
      ],
      "metadata": {
        "colab": {
          "base_uri": "https://localhost:8080/"
        },
        "id": "64z6LoS0OlHE",
        "outputId": "737cd09a-d3e2-4395-c72e-13a1352e7a1c"
      },
      "execution_count": 32,
      "outputs": [
        {
          "output_type": "execute_result",
          "data": {
            "text/plain": [
              "array([0.65174393, 0.76197173, 0.37957895, 0.51299839, 0.30532804,\n",
              "       0.3694479 , 0.73016111, 0.71745725, 0.74173276, 0.43692884,\n",
              "       0.45150637, 0.30836422, 0.57883556, 0.64106561, 0.8013272 ,\n",
              "       0.54302973, 0.53527036, 0.71401273, 0.47877201, 0.77823604,\n",
              "       0.47642362, 0.78021012, 0.54429273, 0.4146383 , 0.3653876 ,\n",
              "       0.67195793, 0.70684477, 0.58297807, 1.        , 0.77456642,\n",
              "       0.48992809, 0.77205322, 0.5932935 , 0.39413365, 0.81005496,\n",
              "       0.25703165, 0.57682456, 0.        , 0.11163611, 0.24130912,\n",
              "       0.51204073, 0.25446874, 0.34185188, 0.57930693, 0.78807166,\n",
              "       0.5547241 , 0.49125975, 0.64054682, 0.00350184, 0.50014806])"
            ]
          },
          "metadata": {},
          "execution_count": 32
        }
      ]
    },
    {
      "cell_type": "markdown",
      "source": [
        "# **Standardization**\n",
        "---\n",
        "Standardization is another scaling method where the values are centered around the mean with a unit standard deviation\n",
        "---\n",
        "![1611663105690.png](data:image/png;base64,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)\n"
      ],
      "metadata": {
        "id": "U5_T2ulsXDSz"
      }
    },
    {
      "cell_type": "markdown",
      "source": [
        "# **Import Necessary Library**"
      ],
      "metadata": {
        "id": "D93FWUc2ZEaY"
      }
    },
    {
      "cell_type": "code",
      "source": [
        "import pandas as pd\n",
        "from sklearn.preprocessing import StandardScaler"
      ],
      "metadata": {
        "id": "-OIvkOMeOkks"
      },
      "execution_count": 33,
      "outputs": []
    },
    {
      "cell_type": "code",
      "source": [
        "#Read the dataset\n",
        "dataset=pd.read_csv(\"/content/drive/MyDrive/Data/supershops.csv\")"
      ],
      "metadata": {
        "id": "SZohcYnRXCvn"
      },
      "execution_count": 34,
      "outputs": []
    },
    {
      "cell_type": "code",
      "source": [
        "dataset.head()"
      ],
      "metadata": {
        "colab": {
          "base_uri": "https://localhost:8080/",
          "height": 206
        },
        "id": "nR4w9JQ0XCr3",
        "outputId": "ba9785b8-ba87-4832-aa68-251a5a628c4a"
      },
      "execution_count": 35,
      "outputs": [
        {
          "output_type": "execute_result",
          "data": {
            "text/plain": [
              "   Marketing Spend  Administration  Transport     Area     Profit\n",
              "0        114523.61       136897.80  471784.10    Dhaka  192261.83\n",
              "1        162597.70       151377.59  443898.53      Ctg  191792.06\n",
              "2        153441.51       101145.55  407934.54  Rangpur  191050.39\n",
              "3        144372.41       118671.85  383199.62    Dhaka  182901.99\n",
              "4        142107.34        91391.77  366168.42  Rangpur  166187.94"
            ],
            "text/html": [
              "\n",
              "  <div id=\"df-0edb33f0-da83-4aac-9771-dfc098934747\" class=\"colab-df-container\">\n",
              "    <div>\n",
              "<style scoped>\n",
              "    .dataframe tbody tr th:only-of-type {\n",
              "        vertical-align: middle;\n",
              "    }\n",
              "\n",
              "    .dataframe tbody tr th {\n",
              "        vertical-align: top;\n",
              "    }\n",
              "\n",
              "    .dataframe thead th {\n",
              "        text-align: right;\n",
              "    }\n",
              "</style>\n",
              "<table border=\"1\" class=\"dataframe\">\n",
              "  <thead>\n",
              "    <tr style=\"text-align: right;\">\n",
              "      <th></th>\n",
              "      <th>Marketing Spend</th>\n",
              "      <th>Administration</th>\n",
              "      <th>Transport</th>\n",
              "      <th>Area</th>\n",
              "      <th>Profit</th>\n",
              "    </tr>\n",
              "  </thead>\n",
              "  <tbody>\n",
              "    <tr>\n",
              "      <th>0</th>\n",
              "      <td>114523.61</td>\n",
              "      <td>136897.80</td>\n",
              "      <td>471784.10</td>\n",
              "      <td>Dhaka</td>\n",
              "      <td>192261.83</td>\n",
              "    </tr>\n",
              "    <tr>\n",
              "      <th>1</th>\n",
              "      <td>162597.70</td>\n",
              "      <td>151377.59</td>\n",
              "      <td>443898.53</td>\n",
              "      <td>Ctg</td>\n",
              "      <td>191792.06</td>\n",
              "    </tr>\n",
              "    <tr>\n",
              "      <th>2</th>\n",
              "      <td>153441.51</td>\n",
              "      <td>101145.55</td>\n",
              "      <td>407934.54</td>\n",
              "      <td>Rangpur</td>\n",
              "      <td>191050.39</td>\n",
              "    </tr>\n",
              "    <tr>\n",
              "      <th>3</th>\n",
              "      <td>144372.41</td>\n",
              "      <td>118671.85</td>\n",
              "      <td>383199.62</td>\n",
              "      <td>Dhaka</td>\n",
              "      <td>182901.99</td>\n",
              "    </tr>\n",
              "    <tr>\n",
              "      <th>4</th>\n",
              "      <td>142107.34</td>\n",
              "      <td>91391.77</td>\n",
              "      <td>366168.42</td>\n",
              "      <td>Rangpur</td>\n",
              "      <td>166187.94</td>\n",
              "    </tr>\n",
              "  </tbody>\n",
              "</table>\n",
              "</div>\n",
              "    <div class=\"colab-df-buttons\">\n",
              "\n",
              "  <div class=\"colab-df-container\">\n",
              "    <button class=\"colab-df-convert\" onclick=\"convertToInteractive('df-0edb33f0-da83-4aac-9771-dfc098934747')\"\n",
              "            title=\"Convert this dataframe to an interactive table.\"\n",
              "            style=\"display:none;\">\n",
              "\n",
              "  <svg xmlns=\"http://www.w3.org/2000/svg\" height=\"24px\" viewBox=\"0 -960 960 960\">\n",
              "    <path d=\"M120-120v-720h720v720H120Zm60-500h600v-160H180v160Zm220 220h160v-160H400v160Zm0 220h160v-160H400v160ZM180-400h160v-160H180v160Zm440 0h160v-160H620v160ZM180-180h160v-160H180v160Zm440 0h160v-160H620v160Z\"/>\n",
              "  </svg>\n",
              "    </button>\n",
              "\n",
              "  <style>\n",
              "    .colab-df-container {\n",
              "      display:flex;\n",
              "      gap: 12px;\n",
              "    }\n",
              "\n",
              "    .colab-df-convert {\n",
              "      background-color: #E8F0FE;\n",
              "      border: none;\n",
              "      border-radius: 50%;\n",
              "      cursor: pointer;\n",
              "      display: none;\n",
              "      fill: #1967D2;\n",
              "      height: 32px;\n",
              "      padding: 0 0 0 0;\n",
              "      width: 32px;\n",
              "    }\n",
              "\n",
              "    .colab-df-convert:hover {\n",
              "      background-color: #E2EBFA;\n",
              "      box-shadow: 0px 1px 2px rgba(60, 64, 67, 0.3), 0px 1px 3px 1px rgba(60, 64, 67, 0.15);\n",
              "      fill: #174EA6;\n",
              "    }\n",
              "\n",
              "    .colab-df-buttons div {\n",
              "      margin-bottom: 4px;\n",
              "    }\n",
              "\n",
              "    [theme=dark] .colab-df-convert {\n",
              "      background-color: #3B4455;\n",
              "      fill: #D2E3FC;\n",
              "    }\n",
              "\n",
              "    [theme=dark] .colab-df-convert:hover {\n",
              "      background-color: #434B5C;\n",
              "      box-shadow: 0px 1px 3px 1px rgba(0, 0, 0, 0.15);\n",
              "      filter: drop-shadow(0px 1px 2px rgba(0, 0, 0, 0.3));\n",
              "      fill: #FFFFFF;\n",
              "    }\n",
              "  </style>\n",
              "\n",
              "    <script>\n",
              "      const buttonEl =\n",
              "        document.querySelector('#df-0edb33f0-da83-4aac-9771-dfc098934747 button.colab-df-convert');\n",
              "      buttonEl.style.display =\n",
              "        google.colab.kernel.accessAllowed ? 'block' : 'none';\n",
              "\n",
              "      async function convertToInteractive(key) {\n",
              "        const element = document.querySelector('#df-0edb33f0-da83-4aac-9771-dfc098934747');\n",
              "        const dataTable =\n",
              "          await google.colab.kernel.invokeFunction('convertToInteractive',\n",
              "                                                    [key], {});\n",
              "        if (!dataTable) return;\n",
              "\n",
              "        const docLinkHtml = 'Like what you see? Visit the ' +\n",
              "          '<a target=\"_blank\" href=https://colab.research.google.com/notebooks/data_table.ipynb>data table notebook</a>'\n",
              "          + ' to learn more about interactive tables.';\n",
              "        element.innerHTML = '';\n",
              "        dataTable['output_type'] = 'display_data';\n",
              "        await google.colab.output.renderOutput(dataTable, element);\n",
              "        const docLink = document.createElement('div');\n",
              "        docLink.innerHTML = docLinkHtml;\n",
              "        element.appendChild(docLink);\n",
              "      }\n",
              "    </script>\n",
              "  </div>\n",
              "\n",
              "\n",
              "<div id=\"df-f3cd7a69-1b84-424d-96c7-751ed2606cd6\">\n",
              "  <button class=\"colab-df-quickchart\" onclick=\"quickchart('df-f3cd7a69-1b84-424d-96c7-751ed2606cd6')\"\n",
              "            title=\"Suggest charts.\"\n",
              "            style=\"display:none;\">\n",
              "\n",
              "<svg xmlns=\"http://www.w3.org/2000/svg\" height=\"24px\"viewBox=\"0 0 24 24\"\n",
              "     width=\"24px\">\n",
              "    <g>\n",
              "        <path d=\"M19 3H5c-1.1 0-2 .9-2 2v14c0 1.1.9 2 2 2h14c1.1 0 2-.9 2-2V5c0-1.1-.9-2-2-2zM9 17H7v-7h2v7zm4 0h-2V7h2v10zm4 0h-2v-4h2v4z\"/>\n",
              "    </g>\n",
              "</svg>\n",
              "  </button>\n",
              "\n",
              "<style>\n",
              "  .colab-df-quickchart {\n",
              "    background-color: #E8F0FE;\n",
              "    border: none;\n",
              "    border-radius: 50%;\n",
              "    cursor: pointer;\n",
              "    display: none;\n",
              "    fill: #1967D2;\n",
              "    height: 32px;\n",
              "    padding: 0 0 0 0;\n",
              "    width: 32px;\n",
              "  }\n",
              "\n",
              "  .colab-df-quickchart:hover {\n",
              "    background-color: #E2EBFA;\n",
              "    box-shadow: 0px 1px 2px rgba(60, 64, 67, 0.3), 0px 1px 3px 1px rgba(60, 64, 67, 0.15);\n",
              "    fill: #174EA6;\n",
              "  }\n",
              "\n",
              "  [theme=dark] .colab-df-quickchart {\n",
              "    background-color: #3B4455;\n",
              "    fill: #D2E3FC;\n",
              "  }\n",
              "\n",
              "  [theme=dark] .colab-df-quickchart:hover {\n",
              "    background-color: #434B5C;\n",
              "    box-shadow: 0px 1px 3px 1px rgba(0, 0, 0, 0.15);\n",
              "    filter: drop-shadow(0px 1px 2px rgba(0, 0, 0, 0.3));\n",
              "    fill: #FFFFFF;\n",
              "  }\n",
              "</style>\n",
              "\n",
              "  <script>\n",
              "    async function quickchart(key) {\n",
              "      const charts = await google.colab.kernel.invokeFunction(\n",
              "          'suggestCharts', [key], {});\n",
              "    }\n",
              "    (() => {\n",
              "      let quickchartButtonEl =\n",
              "        document.querySelector('#df-f3cd7a69-1b84-424d-96c7-751ed2606cd6 button');\n",
              "      quickchartButtonEl.style.display =\n",
              "        google.colab.kernel.accessAllowed ? 'block' : 'none';\n",
              "    })();\n",
              "  </script>\n",
              "</div>\n",
              "    </div>\n",
              "  </div>\n"
            ]
          },
          "metadata": {},
          "execution_count": 35
        }
      ]
    },
    {
      "cell_type": "code",
      "source": [
        "dataFrame=dataset.copy()"
      ],
      "metadata": {
        "id": "mX5gR4Rrnm_b"
      },
      "execution_count": 36,
      "outputs": []
    },
    {
      "cell_type": "code",
      "source": [],
      "metadata": {
        "id": "KDt9LzQGnRBA"
      },
      "execution_count": 36,
      "outputs": []
    },
    {
      "cell_type": "code",
      "source": [
        "xs=dataset.drop(\"Profit\",axis=1)\n",
        "ys=dataset[\"Profit\"]"
      ],
      "metadata": {
        "id": "-xKdWi2KXCop"
      },
      "execution_count": 37,
      "outputs": []
    },
    {
      "cell_type": "code",
      "source": [
        "xs.head()"
      ],
      "metadata": {
        "colab": {
          "base_uri": "https://localhost:8080/",
          "height": 206
        },
        "id": "lapDCNlyXChw",
        "outputId": "62632268-445e-4f3f-86eb-4a698fe7fd86"
      },
      "execution_count": 38,
      "outputs": [
        {
          "output_type": "execute_result",
          "data": {
            "text/plain": [
              "   Marketing Spend  Administration  Transport     Area\n",
              "0        114523.61       136897.80  471784.10    Dhaka\n",
              "1        162597.70       151377.59  443898.53      Ctg\n",
              "2        153441.51       101145.55  407934.54  Rangpur\n",
              "3        144372.41       118671.85  383199.62    Dhaka\n",
              "4        142107.34        91391.77  366168.42  Rangpur"
            ],
            "text/html": [
              "\n",
              "  <div id=\"df-9a88a57c-14fa-488c-93f4-d541f1bb4af5\" class=\"colab-df-container\">\n",
              "    <div>\n",
              "<style scoped>\n",
              "    .dataframe tbody tr th:only-of-type {\n",
              "        vertical-align: middle;\n",
              "    }\n",
              "\n",
              "    .dataframe tbody tr th {\n",
              "        vertical-align: top;\n",
              "    }\n",
              "\n",
              "    .dataframe thead th {\n",
              "        text-align: right;\n",
              "    }\n",
              "</style>\n",
              "<table border=\"1\" class=\"dataframe\">\n",
              "  <thead>\n",
              "    <tr style=\"text-align: right;\">\n",
              "      <th></th>\n",
              "      <th>Marketing Spend</th>\n",
              "      <th>Administration</th>\n",
              "      <th>Transport</th>\n",
              "      <th>Area</th>\n",
              "    </tr>\n",
              "  </thead>\n",
              "  <tbody>\n",
              "    <tr>\n",
              "      <th>0</th>\n",
              "      <td>114523.61</td>\n",
              "      <td>136897.80</td>\n",
              "      <td>471784.10</td>\n",
              "      <td>Dhaka</td>\n",
              "    </tr>\n",
              "    <tr>\n",
              "      <th>1</th>\n",
              "      <td>162597.70</td>\n",
              "      <td>151377.59</td>\n",
              "      <td>443898.53</td>\n",
              "      <td>Ctg</td>\n",
              "    </tr>\n",
              "    <tr>\n",
              "      <th>2</th>\n",
              "      <td>153441.51</td>\n",
              "      <td>101145.55</td>\n",
              "      <td>407934.54</td>\n",
              "      <td>Rangpur</td>\n",
              "    </tr>\n",
              "    <tr>\n",
              "      <th>3</th>\n",
              "      <td>144372.41</td>\n",
              "      <td>118671.85</td>\n",
              "      <td>383199.62</td>\n",
              "      <td>Dhaka</td>\n",
              "    </tr>\n",
              "    <tr>\n",
              "      <th>4</th>\n",
              "      <td>142107.34</td>\n",
              "      <td>91391.77</td>\n",
              "      <td>366168.42</td>\n",
              "      <td>Rangpur</td>\n",
              "    </tr>\n",
              "  </tbody>\n",
              "</table>\n",
              "</div>\n",
              "    <div class=\"colab-df-buttons\">\n",
              "\n",
              "  <div class=\"colab-df-container\">\n",
              "    <button class=\"colab-df-convert\" onclick=\"convertToInteractive('df-9a88a57c-14fa-488c-93f4-d541f1bb4af5')\"\n",
              "            title=\"Convert this dataframe to an interactive table.\"\n",
              "            style=\"display:none;\">\n",
              "\n",
              "  <svg xmlns=\"http://www.w3.org/2000/svg\" height=\"24px\" viewBox=\"0 -960 960 960\">\n",
              "    <path d=\"M120-120v-720h720v720H120Zm60-500h600v-160H180v160Zm220 220h160v-160H400v160Zm0 220h160v-160H400v160ZM180-400h160v-160H180v160Zm440 0h160v-160H620v160ZM180-180h160v-160H180v160Zm440 0h160v-160H620v160Z\"/>\n",
              "  </svg>\n",
              "    </button>\n",
              "\n",
              "  <style>\n",
              "    .colab-df-container {\n",
              "      display:flex;\n",
              "      gap: 12px;\n",
              "    }\n",
              "\n",
              "    .colab-df-convert {\n",
              "      background-color: #E8F0FE;\n",
              "      border: none;\n",
              "      border-radius: 50%;\n",
              "      cursor: pointer;\n",
              "      display: none;\n",
              "      fill: #1967D2;\n",
              "      height: 32px;\n",
              "      padding: 0 0 0 0;\n",
              "      width: 32px;\n",
              "    }\n",
              "\n",
              "    .colab-df-convert:hover {\n",
              "      background-color: #E2EBFA;\n",
              "      box-shadow: 0px 1px 2px rgba(60, 64, 67, 0.3), 0px 1px 3px 1px rgba(60, 64, 67, 0.15);\n",
              "      fill: #174EA6;\n",
              "    }\n",
              "\n",
              "    .colab-df-buttons div {\n",
              "      margin-bottom: 4px;\n",
              "    }\n",
              "\n",
              "    [theme=dark] .colab-df-convert {\n",
              "      background-color: #3B4455;\n",
              "      fill: #D2E3FC;\n",
              "    }\n",
              "\n",
              "    [theme=dark] .colab-df-convert:hover {\n",
              "      background-color: #434B5C;\n",
              "      box-shadow: 0px 1px 3px 1px rgba(0, 0, 0, 0.15);\n",
              "      filter: drop-shadow(0px 1px 2px rgba(0, 0, 0, 0.3));\n",
              "      fill: #FFFFFF;\n",
              "    }\n",
              "  </style>\n",
              "\n",
              "    <script>\n",
              "      const buttonEl =\n",
              "        document.querySelector('#df-9a88a57c-14fa-488c-93f4-d541f1bb4af5 button.colab-df-convert');\n",
              "      buttonEl.style.display =\n",
              "        google.colab.kernel.accessAllowed ? 'block' : 'none';\n",
              "\n",
              "      async function convertToInteractive(key) {\n",
              "        const element = document.querySelector('#df-9a88a57c-14fa-488c-93f4-d541f1bb4af5');\n",
              "        const dataTable =\n",
              "          await google.colab.kernel.invokeFunction('convertToInteractive',\n",
              "                                                    [key], {});\n",
              "        if (!dataTable) return;\n",
              "\n",
              "        const docLinkHtml = 'Like what you see? Visit the ' +\n",
              "          '<a target=\"_blank\" href=https://colab.research.google.com/notebooks/data_table.ipynb>data table notebook</a>'\n",
              "          + ' to learn more about interactive tables.';\n",
              "        element.innerHTML = '';\n",
              "        dataTable['output_type'] = 'display_data';\n",
              "        await google.colab.output.renderOutput(dataTable, element);\n",
              "        const docLink = document.createElement('div');\n",
              "        docLink.innerHTML = docLinkHtml;\n",
              "        element.appendChild(docLink);\n",
              "      }\n",
              "    </script>\n",
              "  </div>\n",
              "\n",
              "\n",
              "<div id=\"df-ab966a12-4850-41c3-9dbe-d0c17dc05f80\">\n",
              "  <button class=\"colab-df-quickchart\" onclick=\"quickchart('df-ab966a12-4850-41c3-9dbe-d0c17dc05f80')\"\n",
              "            title=\"Suggest charts.\"\n",
              "            style=\"display:none;\">\n",
              "\n",
              "<svg xmlns=\"http://www.w3.org/2000/svg\" height=\"24px\"viewBox=\"0 0 24 24\"\n",
              "     width=\"24px\">\n",
              "    <g>\n",
              "        <path d=\"M19 3H5c-1.1 0-2 .9-2 2v14c0 1.1.9 2 2 2h14c1.1 0 2-.9 2-2V5c0-1.1-.9-2-2-2zM9 17H7v-7h2v7zm4 0h-2V7h2v10zm4 0h-2v-4h2v4z\"/>\n",
              "    </g>\n",
              "</svg>\n",
              "  </button>\n",
              "\n",
              "<style>\n",
              "  .colab-df-quickchart {\n",
              "    background-color: #E8F0FE;\n",
              "    border: none;\n",
              "    border-radius: 50%;\n",
              "    cursor: pointer;\n",
              "    display: none;\n",
              "    fill: #1967D2;\n",
              "    height: 32px;\n",
              "    padding: 0 0 0 0;\n",
              "    width: 32px;\n",
              "  }\n",
              "\n",
              "  .colab-df-quickchart:hover {\n",
              "    background-color: #E2EBFA;\n",
              "    box-shadow: 0px 1px 2px rgba(60, 64, 67, 0.3), 0px 1px 3px 1px rgba(60, 64, 67, 0.15);\n",
              "    fill: #174EA6;\n",
              "  }\n",
              "\n",
              "  [theme=dark] .colab-df-quickchart {\n",
              "    background-color: #3B4455;\n",
              "    fill: #D2E3FC;\n",
              "  }\n",
              "\n",
              "  [theme=dark] .colab-df-quickchart:hover {\n",
              "    background-color: #434B5C;\n",
              "    box-shadow: 0px 1px 3px 1px rgba(0, 0, 0, 0.15);\n",
              "    filter: drop-shadow(0px 1px 2px rgba(0, 0, 0, 0.3));\n",
              "    fill: #FFFFFF;\n",
              "  }\n",
              "</style>\n",
              "\n",
              "  <script>\n",
              "    async function quickchart(key) {\n",
              "      const charts = await google.colab.kernel.invokeFunction(\n",
              "          'suggestCharts', [key], {});\n",
              "    }\n",
              "    (() => {\n",
              "      let quickchartButtonEl =\n",
              "        document.querySelector('#df-ab966a12-4850-41c3-9dbe-d0c17dc05f80 button');\n",
              "      quickchartButtonEl.style.display =\n",
              "        google.colab.kernel.accessAllowed ? 'block' : 'none';\n",
              "    })();\n",
              "  </script>\n",
              "</div>\n",
              "    </div>\n",
              "  </div>\n"
            ]
          },
          "metadata": {},
          "execution_count": 38
        }
      ]
    },
    {
      "cell_type": "code",
      "source": [
        "ys.head()"
      ],
      "metadata": {
        "colab": {
          "base_uri": "https://localhost:8080/"
        },
        "id": "RdsWWF33XCd4",
        "outputId": "b2b73d72-59cf-42b3-e040-6231407410a8"
      },
      "execution_count": 39,
      "outputs": [
        {
          "output_type": "execute_result",
          "data": {
            "text/plain": [
              "0    192261.83\n",
              "1    191792.06\n",
              "2    191050.39\n",
              "3    182901.99\n",
              "4    166187.94\n",
              "Name: Profit, dtype: float64"
            ]
          },
          "metadata": {},
          "execution_count": 39
        }
      ]
    },
    {
      "cell_type": "code",
      "source": [
        "#Creating Object\n",
        "scaler=StandardScaler()"
      ],
      "metadata": {
        "id": "gLrLkIf3XCaH"
      },
      "execution_count": 40,
      "outputs": []
    },
    {
      "cell_type": "code",
      "source": [
        "xs['Marketing Spend']=scaler.fit_transform(xs[['Marketing Spend']])"
      ],
      "metadata": {
        "id": "SIAwJzz0XCXA"
      },
      "execution_count": 41,
      "outputs": []
    },
    {
      "cell_type": "code",
      "source": [
        "xs['Marketing Spend'].head()"
      ],
      "metadata": {
        "colab": {
          "base_uri": "https://localhost:8080/"
        },
        "id": "KYGkmgtcXCUI",
        "outputId": "78e38d2f-4cf8-4d5d-cfb8-dfed7ad0caf1"
      },
      "execution_count": 42,
      "outputs": [
        {
          "output_type": "execute_result",
          "data": {
            "text/plain": [
              "0    0.897913\n",
              "1    1.955860\n",
              "2    1.754364\n",
              "3    1.554784\n",
              "4    1.504937\n",
              "Name: Marketing Spend, dtype: float64"
            ]
          },
          "metadata": {},
          "execution_count": 42
        }
      ]
    },
    {
      "cell_type": "markdown",
      "source": [
        "# **Another Process**"
      ],
      "metadata": {
        "id": "EjnPW_vBcdvL"
      }
    },
    {
      "cell_type": "code",
      "source": [],
      "metadata": {
        "id": "KHSuobHocbdE"
      },
      "execution_count": 42,
      "outputs": []
    },
    {
      "cell_type": "code",
      "source": [
        "xs_=xs.copy()"
      ],
      "metadata": {
        "id": "XuvcZxIiXCQw"
      },
      "execution_count": 43,
      "outputs": []
    },
    {
      "cell_type": "code",
      "source": [
        "xs_.head()"
      ],
      "metadata": {
        "colab": {
          "base_uri": "https://localhost:8080/",
          "height": 206
        },
        "id": "G9TzLl5cXCNl",
        "outputId": "f0c2974c-987a-4f70-f37f-906041afed62"
      },
      "execution_count": 44,
      "outputs": [
        {
          "output_type": "execute_result",
          "data": {
            "text/plain": [
              "   Marketing Spend  Administration  Transport     Area\n",
              "0         0.897913       136897.80  471784.10    Dhaka\n",
              "1         1.955860       151377.59  443898.53      Ctg\n",
              "2         1.754364       101145.55  407934.54  Rangpur\n",
              "3         1.554784       118671.85  383199.62    Dhaka\n",
              "4         1.504937        91391.77  366168.42  Rangpur"
            ],
            "text/html": [
              "\n",
              "  <div id=\"df-ef8c56fe-6782-4d83-9e63-68dc2b703dd5\" class=\"colab-df-container\">\n",
              "    <div>\n",
              "<style scoped>\n",
              "    .dataframe tbody tr th:only-of-type {\n",
              "        vertical-align: middle;\n",
              "    }\n",
              "\n",
              "    .dataframe tbody tr th {\n",
              "        vertical-align: top;\n",
              "    }\n",
              "\n",
              "    .dataframe thead th {\n",
              "        text-align: right;\n",
              "    }\n",
              "</style>\n",
              "<table border=\"1\" class=\"dataframe\">\n",
              "  <thead>\n",
              "    <tr style=\"text-align: right;\">\n",
              "      <th></th>\n",
              "      <th>Marketing Spend</th>\n",
              "      <th>Administration</th>\n",
              "      <th>Transport</th>\n",
              "      <th>Area</th>\n",
              "    </tr>\n",
              "  </thead>\n",
              "  <tbody>\n",
              "    <tr>\n",
              "      <th>0</th>\n",
              "      <td>0.897913</td>\n",
              "      <td>136897.80</td>\n",
              "      <td>471784.10</td>\n",
              "      <td>Dhaka</td>\n",
              "    </tr>\n",
              "    <tr>\n",
              "      <th>1</th>\n",
              "      <td>1.955860</td>\n",
              "      <td>151377.59</td>\n",
              "      <td>443898.53</td>\n",
              "      <td>Ctg</td>\n",
              "    </tr>\n",
              "    <tr>\n",
              "      <th>2</th>\n",
              "      <td>1.754364</td>\n",
              "      <td>101145.55</td>\n",
              "      <td>407934.54</td>\n",
              "      <td>Rangpur</td>\n",
              "    </tr>\n",
              "    <tr>\n",
              "      <th>3</th>\n",
              "      <td>1.554784</td>\n",
              "      <td>118671.85</td>\n",
              "      <td>383199.62</td>\n",
              "      <td>Dhaka</td>\n",
              "    </tr>\n",
              "    <tr>\n",
              "      <th>4</th>\n",
              "      <td>1.504937</td>\n",
              "      <td>91391.77</td>\n",
              "      <td>366168.42</td>\n",
              "      <td>Rangpur</td>\n",
              "    </tr>\n",
              "  </tbody>\n",
              "</table>\n",
              "</div>\n",
              "    <div class=\"colab-df-buttons\">\n",
              "\n",
              "  <div class=\"colab-df-container\">\n",
              "    <button class=\"colab-df-convert\" onclick=\"convertToInteractive('df-ef8c56fe-6782-4d83-9e63-68dc2b703dd5')\"\n",
              "            title=\"Convert this dataframe to an interactive table.\"\n",
              "            style=\"display:none;\">\n",
              "\n",
              "  <svg xmlns=\"http://www.w3.org/2000/svg\" height=\"24px\" viewBox=\"0 -960 960 960\">\n",
              "    <path d=\"M120-120v-720h720v720H120Zm60-500h600v-160H180v160Zm220 220h160v-160H400v160Zm0 220h160v-160H400v160ZM180-400h160v-160H180v160Zm440 0h160v-160H620v160ZM180-180h160v-160H180v160Zm440 0h160v-160H620v160Z\"/>\n",
              "  </svg>\n",
              "    </button>\n",
              "\n",
              "  <style>\n",
              "    .colab-df-container {\n",
              "      display:flex;\n",
              "      gap: 12px;\n",
              "    }\n",
              "\n",
              "    .colab-df-convert {\n",
              "      background-color: #E8F0FE;\n",
              "      border: none;\n",
              "      border-radius: 50%;\n",
              "      cursor: pointer;\n",
              "      display: none;\n",
              "      fill: #1967D2;\n",
              "      height: 32px;\n",
              "      padding: 0 0 0 0;\n",
              "      width: 32px;\n",
              "    }\n",
              "\n",
              "    .colab-df-convert:hover {\n",
              "      background-color: #E2EBFA;\n",
              "      box-shadow: 0px 1px 2px rgba(60, 64, 67, 0.3), 0px 1px 3px 1px rgba(60, 64, 67, 0.15);\n",
              "      fill: #174EA6;\n",
              "    }\n",
              "\n",
              "    .colab-df-buttons div {\n",
              "      margin-bottom: 4px;\n",
              "    }\n",
              "\n",
              "    [theme=dark] .colab-df-convert {\n",
              "      background-color: #3B4455;\n",
              "      fill: #D2E3FC;\n",
              "    }\n",
              "\n",
              "    [theme=dark] .colab-df-convert:hover {\n",
              "      background-color: #434B5C;\n",
              "      box-shadow: 0px 1px 3px 1px rgba(0, 0, 0, 0.15);\n",
              "      filter: drop-shadow(0px 1px 2px rgba(0, 0, 0, 0.3));\n",
              "      fill: #FFFFFF;\n",
              "    }\n",
              "  </style>\n",
              "\n",
              "    <script>\n",
              "      const buttonEl =\n",
              "        document.querySelector('#df-ef8c56fe-6782-4d83-9e63-68dc2b703dd5 button.colab-df-convert');\n",
              "      buttonEl.style.display =\n",
              "        google.colab.kernel.accessAllowed ? 'block' : 'none';\n",
              "\n",
              "      async function convertToInteractive(key) {\n",
              "        const element = document.querySelector('#df-ef8c56fe-6782-4d83-9e63-68dc2b703dd5');\n",
              "        const dataTable =\n",
              "          await google.colab.kernel.invokeFunction('convertToInteractive',\n",
              "                                                    [key], {});\n",
              "        if (!dataTable) return;\n",
              "\n",
              "        const docLinkHtml = 'Like what you see? Visit the ' +\n",
              "          '<a target=\"_blank\" href=https://colab.research.google.com/notebooks/data_table.ipynb>data table notebook</a>'\n",
              "          + ' to learn more about interactive tables.';\n",
              "        element.innerHTML = '';\n",
              "        dataTable['output_type'] = 'display_data';\n",
              "        await google.colab.output.renderOutput(dataTable, element);\n",
              "        const docLink = document.createElement('div');\n",
              "        docLink.innerHTML = docLinkHtml;\n",
              "        element.appendChild(docLink);\n",
              "      }\n",
              "    </script>\n",
              "  </div>\n",
              "\n",
              "\n",
              "<div id=\"df-0b3b98e5-a4fb-4bbe-b87f-be76427eab0e\">\n",
              "  <button class=\"colab-df-quickchart\" onclick=\"quickchart('df-0b3b98e5-a4fb-4bbe-b87f-be76427eab0e')\"\n",
              "            title=\"Suggest charts.\"\n",
              "            style=\"display:none;\">\n",
              "\n",
              "<svg xmlns=\"http://www.w3.org/2000/svg\" height=\"24px\"viewBox=\"0 0 24 24\"\n",
              "     width=\"24px\">\n",
              "    <g>\n",
              "        <path d=\"M19 3H5c-1.1 0-2 .9-2 2v14c0 1.1.9 2 2 2h14c1.1 0 2-.9 2-2V5c0-1.1-.9-2-2-2zM9 17H7v-7h2v7zm4 0h-2V7h2v10zm4 0h-2v-4h2v4z\"/>\n",
              "    </g>\n",
              "</svg>\n",
              "  </button>\n",
              "\n",
              "<style>\n",
              "  .colab-df-quickchart {\n",
              "    background-color: #E8F0FE;\n",
              "    border: none;\n",
              "    border-radius: 50%;\n",
              "    cursor: pointer;\n",
              "    display: none;\n",
              "    fill: #1967D2;\n",
              "    height: 32px;\n",
              "    padding: 0 0 0 0;\n",
              "    width: 32px;\n",
              "  }\n",
              "\n",
              "  .colab-df-quickchart:hover {\n",
              "    background-color: #E2EBFA;\n",
              "    box-shadow: 0px 1px 2px rgba(60, 64, 67, 0.3), 0px 1px 3px 1px rgba(60, 64, 67, 0.15);\n",
              "    fill: #174EA6;\n",
              "  }\n",
              "\n",
              "  [theme=dark] .colab-df-quickchart {\n",
              "    background-color: #3B4455;\n",
              "    fill: #D2E3FC;\n",
              "  }\n",
              "\n",
              "  [theme=dark] .colab-df-quickchart:hover {\n",
              "    background-color: #434B5C;\n",
              "    box-shadow: 0px 1px 3px 1px rgba(0, 0, 0, 0.15);\n",
              "    filter: drop-shadow(0px 1px 2px rgba(0, 0, 0, 0.3));\n",
              "    fill: #FFFFFF;\n",
              "  }\n",
              "</style>\n",
              "\n",
              "  <script>\n",
              "    async function quickchart(key) {\n",
              "      const charts = await google.colab.kernel.invokeFunction(\n",
              "          'suggestCharts', [key], {});\n",
              "    }\n",
              "    (() => {\n",
              "      let quickchartButtonEl =\n",
              "        document.querySelector('#df-0b3b98e5-a4fb-4bbe-b87f-be76427eab0e button');\n",
              "      quickchartButtonEl.style.display =\n",
              "        google.colab.kernel.accessAllowed ? 'block' : 'none';\n",
              "    })();\n",
              "  </script>\n",
              "</div>\n",
              "    </div>\n",
              "  </div>\n"
            ]
          },
          "metadata": {},
          "execution_count": 44
        }
      ]
    },
    {
      "cell_type": "code",
      "source": [
        "#Select the column for standardizing\n",
        "col_stand=['Marketing Spend','Administration','Transport']"
      ],
      "metadata": {
        "id": "y5UaY71XXCKQ"
      },
      "execution_count": 45,
      "outputs": []
    },
    {
      "cell_type": "code",
      "source": [
        "dataset[col_stand]=scaler.fit_transform(dataset[col_stand])"
      ],
      "metadata": {
        "id": "scfBlK9EcYze"
      },
      "execution_count": 46,
      "outputs": []
    },
    {
      "cell_type": "code",
      "source": [
        "dataset[col_stand].head()"
      ],
      "metadata": {
        "colab": {
          "base_uri": "https://localhost:8080/",
          "height": 206
        },
        "id": "JphMm8fxcYpo",
        "outputId": "c0b3932f-2698-4e95-ce80-68ffd3d715af"
      },
      "execution_count": 47,
      "outputs": [
        {
          "output_type": "execute_result",
          "data": {
            "text/plain": [
              "   Marketing Spend  Administration  Transport\n",
              "0         0.897913        0.560753   2.165287\n",
              "1         1.955860        1.082807   1.929843\n",
              "2         1.754364       -0.728257   1.626191\n",
              "3         1.554784       -0.096365   1.417348\n",
              "4         1.504937       -1.079919   1.273550"
            ],
            "text/html": [
              "\n",
              "  <div id=\"df-2dc3fd01-4659-46ad-b55e-c7b9845ca6a7\" class=\"colab-df-container\">\n",
              "    <div>\n",
              "<style scoped>\n",
              "    .dataframe tbody tr th:only-of-type {\n",
              "        vertical-align: middle;\n",
              "    }\n",
              "\n",
              "    .dataframe tbody tr th {\n",
              "        vertical-align: top;\n",
              "    }\n",
              "\n",
              "    .dataframe thead th {\n",
              "        text-align: right;\n",
              "    }\n",
              "</style>\n",
              "<table border=\"1\" class=\"dataframe\">\n",
              "  <thead>\n",
              "    <tr style=\"text-align: right;\">\n",
              "      <th></th>\n",
              "      <th>Marketing Spend</th>\n",
              "      <th>Administration</th>\n",
              "      <th>Transport</th>\n",
              "    </tr>\n",
              "  </thead>\n",
              "  <tbody>\n",
              "    <tr>\n",
              "      <th>0</th>\n",
              "      <td>0.897913</td>\n",
              "      <td>0.560753</td>\n",
              "      <td>2.165287</td>\n",
              "    </tr>\n",
              "    <tr>\n",
              "      <th>1</th>\n",
              "      <td>1.955860</td>\n",
              "      <td>1.082807</td>\n",
              "      <td>1.929843</td>\n",
              "    </tr>\n",
              "    <tr>\n",
              "      <th>2</th>\n",
              "      <td>1.754364</td>\n",
              "      <td>-0.728257</td>\n",
              "      <td>1.626191</td>\n",
              "    </tr>\n",
              "    <tr>\n",
              "      <th>3</th>\n",
              "      <td>1.554784</td>\n",
              "      <td>-0.096365</td>\n",
              "      <td>1.417348</td>\n",
              "    </tr>\n",
              "    <tr>\n",
              "      <th>4</th>\n",
              "      <td>1.504937</td>\n",
              "      <td>-1.079919</td>\n",
              "      <td>1.273550</td>\n",
              "    </tr>\n",
              "  </tbody>\n",
              "</table>\n",
              "</div>\n",
              "    <div class=\"colab-df-buttons\">\n",
              "\n",
              "  <div class=\"colab-df-container\">\n",
              "    <button class=\"colab-df-convert\" onclick=\"convertToInteractive('df-2dc3fd01-4659-46ad-b55e-c7b9845ca6a7')\"\n",
              "            title=\"Convert this dataframe to an interactive table.\"\n",
              "            style=\"display:none;\">\n",
              "\n",
              "  <svg xmlns=\"http://www.w3.org/2000/svg\" height=\"24px\" viewBox=\"0 -960 960 960\">\n",
              "    <path d=\"M120-120v-720h720v720H120Zm60-500h600v-160H180v160Zm220 220h160v-160H400v160Zm0 220h160v-160H400v160ZM180-400h160v-160H180v160Zm440 0h160v-160H620v160ZM180-180h160v-160H180v160Zm440 0h160v-160H620v160Z\"/>\n",
              "  </svg>\n",
              "    </button>\n",
              "\n",
              "  <style>\n",
              "    .colab-df-container {\n",
              "      display:flex;\n",
              "      gap: 12px;\n",
              "    }\n",
              "\n",
              "    .colab-df-convert {\n",
              "      background-color: #E8F0FE;\n",
              "      border: none;\n",
              "      border-radius: 50%;\n",
              "      cursor: pointer;\n",
              "      display: none;\n",
              "      fill: #1967D2;\n",
              "      height: 32px;\n",
              "      padding: 0 0 0 0;\n",
              "      width: 32px;\n",
              "    }\n",
              "\n",
              "    .colab-df-convert:hover {\n",
              "      background-color: #E2EBFA;\n",
              "      box-shadow: 0px 1px 2px rgba(60, 64, 67, 0.3), 0px 1px 3px 1px rgba(60, 64, 67, 0.15);\n",
              "      fill: #174EA6;\n",
              "    }\n",
              "\n",
              "    .colab-df-buttons div {\n",
              "      margin-bottom: 4px;\n",
              "    }\n",
              "\n",
              "    [theme=dark] .colab-df-convert {\n",
              "      background-color: #3B4455;\n",
              "      fill: #D2E3FC;\n",
              "    }\n",
              "\n",
              "    [theme=dark] .colab-df-convert:hover {\n",
              "      background-color: #434B5C;\n",
              "      box-shadow: 0px 1px 3px 1px rgba(0, 0, 0, 0.15);\n",
              "      filter: drop-shadow(0px 1px 2px rgba(0, 0, 0, 0.3));\n",
              "      fill: #FFFFFF;\n",
              "    }\n",
              "  </style>\n",
              "\n",
              "    <script>\n",
              "      const buttonEl =\n",
              "        document.querySelector('#df-2dc3fd01-4659-46ad-b55e-c7b9845ca6a7 button.colab-df-convert');\n",
              "      buttonEl.style.display =\n",
              "        google.colab.kernel.accessAllowed ? 'block' : 'none';\n",
              "\n",
              "      async function convertToInteractive(key) {\n",
              "        const element = document.querySelector('#df-2dc3fd01-4659-46ad-b55e-c7b9845ca6a7');\n",
              "        const dataTable =\n",
              "          await google.colab.kernel.invokeFunction('convertToInteractive',\n",
              "                                                    [key], {});\n",
              "        if (!dataTable) return;\n",
              "\n",
              "        const docLinkHtml = 'Like what you see? Visit the ' +\n",
              "          '<a target=\"_blank\" href=https://colab.research.google.com/notebooks/data_table.ipynb>data table notebook</a>'\n",
              "          + ' to learn more about interactive tables.';\n",
              "        element.innerHTML = '';\n",
              "        dataTable['output_type'] = 'display_data';\n",
              "        await google.colab.output.renderOutput(dataTable, element);\n",
              "        const docLink = document.createElement('div');\n",
              "        docLink.innerHTML = docLinkHtml;\n",
              "        element.appendChild(docLink);\n",
              "      }\n",
              "    </script>\n",
              "  </div>\n",
              "\n",
              "\n",
              "<div id=\"df-1a12c282-c925-4375-9f29-4e81ab8190b7\">\n",
              "  <button class=\"colab-df-quickchart\" onclick=\"quickchart('df-1a12c282-c925-4375-9f29-4e81ab8190b7')\"\n",
              "            title=\"Suggest charts.\"\n",
              "            style=\"display:none;\">\n",
              "\n",
              "<svg xmlns=\"http://www.w3.org/2000/svg\" height=\"24px\"viewBox=\"0 0 24 24\"\n",
              "     width=\"24px\">\n",
              "    <g>\n",
              "        <path d=\"M19 3H5c-1.1 0-2 .9-2 2v14c0 1.1.9 2 2 2h14c1.1 0 2-.9 2-2V5c0-1.1-.9-2-2-2zM9 17H7v-7h2v7zm4 0h-2V7h2v10zm4 0h-2v-4h2v4z\"/>\n",
              "    </g>\n",
              "</svg>\n",
              "  </button>\n",
              "\n",
              "<style>\n",
              "  .colab-df-quickchart {\n",
              "    background-color: #E8F0FE;\n",
              "    border: none;\n",
              "    border-radius: 50%;\n",
              "    cursor: pointer;\n",
              "    display: none;\n",
              "    fill: #1967D2;\n",
              "    height: 32px;\n",
              "    padding: 0 0 0 0;\n",
              "    width: 32px;\n",
              "  }\n",
              "\n",
              "  .colab-df-quickchart:hover {\n",
              "    background-color: #E2EBFA;\n",
              "    box-shadow: 0px 1px 2px rgba(60, 64, 67, 0.3), 0px 1px 3px 1px rgba(60, 64, 67, 0.15);\n",
              "    fill: #174EA6;\n",
              "  }\n",
              "\n",
              "  [theme=dark] .colab-df-quickchart {\n",
              "    background-color: #3B4455;\n",
              "    fill: #D2E3FC;\n",
              "  }\n",
              "\n",
              "  [theme=dark] .colab-df-quickchart:hover {\n",
              "    background-color: #434B5C;\n",
              "    box-shadow: 0px 1px 3px 1px rgba(0, 0, 0, 0.15);\n",
              "    filter: drop-shadow(0px 1px 2px rgba(0, 0, 0, 0.3));\n",
              "    fill: #FFFFFF;\n",
              "  }\n",
              "</style>\n",
              "\n",
              "  <script>\n",
              "    async function quickchart(key) {\n",
              "      const charts = await google.colab.kernel.invokeFunction(\n",
              "          'suggestCharts', [key], {});\n",
              "    }\n",
              "    (() => {\n",
              "      let quickchartButtonEl =\n",
              "        document.querySelector('#df-1a12c282-c925-4375-9f29-4e81ab8190b7 button');\n",
              "      quickchartButtonEl.style.display =\n",
              "        google.colab.kernel.accessAllowed ? 'block' : 'none';\n",
              "    })();\n",
              "  </script>\n",
              "</div>\n",
              "    </div>\n",
              "  </div>\n"
            ]
          },
          "metadata": {},
          "execution_count": 47
        }
      ]
    },
    {
      "cell_type": "code",
      "source": [
        "dataset.head()"
      ],
      "metadata": {
        "colab": {
          "base_uri": "https://localhost:8080/",
          "height": 206
        },
        "id": "pd0MFI5zmKuw",
        "outputId": "b0d956c8-e1ac-495a-fd82-713bb76e01a9"
      },
      "execution_count": 48,
      "outputs": [
        {
          "output_type": "execute_result",
          "data": {
            "text/plain": [
              "   Marketing Spend  Administration  Transport     Area     Profit\n",
              "0         0.897913        0.560753   2.165287    Dhaka  192261.83\n",
              "1         1.955860        1.082807   1.929843      Ctg  191792.06\n",
              "2         1.754364       -0.728257   1.626191  Rangpur  191050.39\n",
              "3         1.554784       -0.096365   1.417348    Dhaka  182901.99\n",
              "4         1.504937       -1.079919   1.273550  Rangpur  166187.94"
            ],
            "text/html": [
              "\n",
              "  <div id=\"df-d21af79d-5d59-433c-96ce-334e72a03505\" class=\"colab-df-container\">\n",
              "    <div>\n",
              "<style scoped>\n",
              "    .dataframe tbody tr th:only-of-type {\n",
              "        vertical-align: middle;\n",
              "    }\n",
              "\n",
              "    .dataframe tbody tr th {\n",
              "        vertical-align: top;\n",
              "    }\n",
              "\n",
              "    .dataframe thead th {\n",
              "        text-align: right;\n",
              "    }\n",
              "</style>\n",
              "<table border=\"1\" class=\"dataframe\">\n",
              "  <thead>\n",
              "    <tr style=\"text-align: right;\">\n",
              "      <th></th>\n",
              "      <th>Marketing Spend</th>\n",
              "      <th>Administration</th>\n",
              "      <th>Transport</th>\n",
              "      <th>Area</th>\n",
              "      <th>Profit</th>\n",
              "    </tr>\n",
              "  </thead>\n",
              "  <tbody>\n",
              "    <tr>\n",
              "      <th>0</th>\n",
              "      <td>0.897913</td>\n",
              "      <td>0.560753</td>\n",
              "      <td>2.165287</td>\n",
              "      <td>Dhaka</td>\n",
              "      <td>192261.83</td>\n",
              "    </tr>\n",
              "    <tr>\n",
              "      <th>1</th>\n",
              "      <td>1.955860</td>\n",
              "      <td>1.082807</td>\n",
              "      <td>1.929843</td>\n",
              "      <td>Ctg</td>\n",
              "      <td>191792.06</td>\n",
              "    </tr>\n",
              "    <tr>\n",
              "      <th>2</th>\n",
              "      <td>1.754364</td>\n",
              "      <td>-0.728257</td>\n",
              "      <td>1.626191</td>\n",
              "      <td>Rangpur</td>\n",
              "      <td>191050.39</td>\n",
              "    </tr>\n",
              "    <tr>\n",
              "      <th>3</th>\n",
              "      <td>1.554784</td>\n",
              "      <td>-0.096365</td>\n",
              "      <td>1.417348</td>\n",
              "      <td>Dhaka</td>\n",
              "      <td>182901.99</td>\n",
              "    </tr>\n",
              "    <tr>\n",
              "      <th>4</th>\n",
              "      <td>1.504937</td>\n",
              "      <td>-1.079919</td>\n",
              "      <td>1.273550</td>\n",
              "      <td>Rangpur</td>\n",
              "      <td>166187.94</td>\n",
              "    </tr>\n",
              "  </tbody>\n",
              "</table>\n",
              "</div>\n",
              "    <div class=\"colab-df-buttons\">\n",
              "\n",
              "  <div class=\"colab-df-container\">\n",
              "    <button class=\"colab-df-convert\" onclick=\"convertToInteractive('df-d21af79d-5d59-433c-96ce-334e72a03505')\"\n",
              "            title=\"Convert this dataframe to an interactive table.\"\n",
              "            style=\"display:none;\">\n",
              "\n",
              "  <svg xmlns=\"http://www.w3.org/2000/svg\" height=\"24px\" viewBox=\"0 -960 960 960\">\n",
              "    <path d=\"M120-120v-720h720v720H120Zm60-500h600v-160H180v160Zm220 220h160v-160H400v160Zm0 220h160v-160H400v160ZM180-400h160v-160H180v160Zm440 0h160v-160H620v160ZM180-180h160v-160H180v160Zm440 0h160v-160H620v160Z\"/>\n",
              "  </svg>\n",
              "    </button>\n",
              "\n",
              "  <style>\n",
              "    .colab-df-container {\n",
              "      display:flex;\n",
              "      gap: 12px;\n",
              "    }\n",
              "\n",
              "    .colab-df-convert {\n",
              "      background-color: #E8F0FE;\n",
              "      border: none;\n",
              "      border-radius: 50%;\n",
              "      cursor: pointer;\n",
              "      display: none;\n",
              "      fill: #1967D2;\n",
              "      height: 32px;\n",
              "      padding: 0 0 0 0;\n",
              "      width: 32px;\n",
              "    }\n",
              "\n",
              "    .colab-df-convert:hover {\n",
              "      background-color: #E2EBFA;\n",
              "      box-shadow: 0px 1px 2px rgba(60, 64, 67, 0.3), 0px 1px 3px 1px rgba(60, 64, 67, 0.15);\n",
              "      fill: #174EA6;\n",
              "    }\n",
              "\n",
              "    .colab-df-buttons div {\n",
              "      margin-bottom: 4px;\n",
              "    }\n",
              "\n",
              "    [theme=dark] .colab-df-convert {\n",
              "      background-color: #3B4455;\n",
              "      fill: #D2E3FC;\n",
              "    }\n",
              "\n",
              "    [theme=dark] .colab-df-convert:hover {\n",
              "      background-color: #434B5C;\n",
              "      box-shadow: 0px 1px 3px 1px rgba(0, 0, 0, 0.15);\n",
              "      filter: drop-shadow(0px 1px 2px rgba(0, 0, 0, 0.3));\n",
              "      fill: #FFFFFF;\n",
              "    }\n",
              "  </style>\n",
              "\n",
              "    <script>\n",
              "      const buttonEl =\n",
              "        document.querySelector('#df-d21af79d-5d59-433c-96ce-334e72a03505 button.colab-df-convert');\n",
              "      buttonEl.style.display =\n",
              "        google.colab.kernel.accessAllowed ? 'block' : 'none';\n",
              "\n",
              "      async function convertToInteractive(key) {\n",
              "        const element = document.querySelector('#df-d21af79d-5d59-433c-96ce-334e72a03505');\n",
              "        const dataTable =\n",
              "          await google.colab.kernel.invokeFunction('convertToInteractive',\n",
              "                                                    [key], {});\n",
              "        if (!dataTable) return;\n",
              "\n",
              "        const docLinkHtml = 'Like what you see? Visit the ' +\n",
              "          '<a target=\"_blank\" href=https://colab.research.google.com/notebooks/data_table.ipynb>data table notebook</a>'\n",
              "          + ' to learn more about interactive tables.';\n",
              "        element.innerHTML = '';\n",
              "        dataTable['output_type'] = 'display_data';\n",
              "        await google.colab.output.renderOutput(dataTable, element);\n",
              "        const docLink = document.createElement('div');\n",
              "        docLink.innerHTML = docLinkHtml;\n",
              "        element.appendChild(docLink);\n",
              "      }\n",
              "    </script>\n",
              "  </div>\n",
              "\n",
              "\n",
              "<div id=\"df-4018025b-b7b3-4e27-afab-a5287bf44652\">\n",
              "  <button class=\"colab-df-quickchart\" onclick=\"quickchart('df-4018025b-b7b3-4e27-afab-a5287bf44652')\"\n",
              "            title=\"Suggest charts.\"\n",
              "            style=\"display:none;\">\n",
              "\n",
              "<svg xmlns=\"http://www.w3.org/2000/svg\" height=\"24px\"viewBox=\"0 0 24 24\"\n",
              "     width=\"24px\">\n",
              "    <g>\n",
              "        <path d=\"M19 3H5c-1.1 0-2 .9-2 2v14c0 1.1.9 2 2 2h14c1.1 0 2-.9 2-2V5c0-1.1-.9-2-2-2zM9 17H7v-7h2v7zm4 0h-2V7h2v10zm4 0h-2v-4h2v4z\"/>\n",
              "    </g>\n",
              "</svg>\n",
              "  </button>\n",
              "\n",
              "<style>\n",
              "  .colab-df-quickchart {\n",
              "    background-color: #E8F0FE;\n",
              "    border: none;\n",
              "    border-radius: 50%;\n",
              "    cursor: pointer;\n",
              "    display: none;\n",
              "    fill: #1967D2;\n",
              "    height: 32px;\n",
              "    padding: 0 0 0 0;\n",
              "    width: 32px;\n",
              "  }\n",
              "\n",
              "  .colab-df-quickchart:hover {\n",
              "    background-color: #E2EBFA;\n",
              "    box-shadow: 0px 1px 2px rgba(60, 64, 67, 0.3), 0px 1px 3px 1px rgba(60, 64, 67, 0.15);\n",
              "    fill: #174EA6;\n",
              "  }\n",
              "\n",
              "  [theme=dark] .colab-df-quickchart {\n",
              "    background-color: #3B4455;\n",
              "    fill: #D2E3FC;\n",
              "  }\n",
              "\n",
              "  [theme=dark] .colab-df-quickchart:hover {\n",
              "    background-color: #434B5C;\n",
              "    box-shadow: 0px 1px 3px 1px rgba(0, 0, 0, 0.15);\n",
              "    filter: drop-shadow(0px 1px 2px rgba(0, 0, 0, 0.3));\n",
              "    fill: #FFFFFF;\n",
              "  }\n",
              "</style>\n",
              "\n",
              "  <script>\n",
              "    async function quickchart(key) {\n",
              "      const charts = await google.colab.kernel.invokeFunction(\n",
              "          'suggestCharts', [key], {});\n",
              "    }\n",
              "    (() => {\n",
              "      let quickchartButtonEl =\n",
              "        document.querySelector('#df-4018025b-b7b3-4e27-afab-a5287bf44652 button');\n",
              "      quickchartButtonEl.style.display =\n",
              "        google.colab.kernel.accessAllowed ? 'block' : 'none';\n",
              "    })();\n",
              "  </script>\n",
              "</div>\n",
              "    </div>\n",
              "  </div>\n"
            ]
          },
          "metadata": {},
          "execution_count": 48
        }
      ]
    },
    {
      "cell_type": "markdown",
      "source": [
        "# **Manually**"
      ],
      "metadata": {
        "id": "N7j9LjjJnzSZ"
      }
    },
    {
      "cell_type": "code",
      "source": [
        "#Load dataset\n",
        "dataframe=pd.read_csv(\"/content/drive/MyDrive/Data/supershops.csv\")"
      ],
      "metadata": {
        "id": "_frOyb42nfMv"
      },
      "execution_count": 49,
      "outputs": []
    },
    {
      "cell_type": "code",
      "source": [
        "dataframe.head()"
      ],
      "metadata": {
        "colab": {
          "base_uri": "https://localhost:8080/",
          "height": 206
        },
        "id": "cRBIJgxxne6d",
        "outputId": "2f135629-95dd-4aa0-dfb3-5c67a1dcbef4"
      },
      "execution_count": 50,
      "outputs": [
        {
          "output_type": "execute_result",
          "data": {
            "text/plain": [
              "   Marketing Spend  Administration  Transport     Area     Profit\n",
              "0        114523.61       136897.80  471784.10    Dhaka  192261.83\n",
              "1        162597.70       151377.59  443898.53      Ctg  191792.06\n",
              "2        153441.51       101145.55  407934.54  Rangpur  191050.39\n",
              "3        144372.41       118671.85  383199.62    Dhaka  182901.99\n",
              "4        142107.34        91391.77  366168.42  Rangpur  166187.94"
            ],
            "text/html": [
              "\n",
              "  <div id=\"df-5887a634-f229-472a-ac19-fa46a207154a\" class=\"colab-df-container\">\n",
              "    <div>\n",
              "<style scoped>\n",
              "    .dataframe tbody tr th:only-of-type {\n",
              "        vertical-align: middle;\n",
              "    }\n",
              "\n",
              "    .dataframe tbody tr th {\n",
              "        vertical-align: top;\n",
              "    }\n",
              "\n",
              "    .dataframe thead th {\n",
              "        text-align: right;\n",
              "    }\n",
              "</style>\n",
              "<table border=\"1\" class=\"dataframe\">\n",
              "  <thead>\n",
              "    <tr style=\"text-align: right;\">\n",
              "      <th></th>\n",
              "      <th>Marketing Spend</th>\n",
              "      <th>Administration</th>\n",
              "      <th>Transport</th>\n",
              "      <th>Area</th>\n",
              "      <th>Profit</th>\n",
              "    </tr>\n",
              "  </thead>\n",
              "  <tbody>\n",
              "    <tr>\n",
              "      <th>0</th>\n",
              "      <td>114523.61</td>\n",
              "      <td>136897.80</td>\n",
              "      <td>471784.10</td>\n",
              "      <td>Dhaka</td>\n",
              "      <td>192261.83</td>\n",
              "    </tr>\n",
              "    <tr>\n",
              "      <th>1</th>\n",
              "      <td>162597.70</td>\n",
              "      <td>151377.59</td>\n",
              "      <td>443898.53</td>\n",
              "      <td>Ctg</td>\n",
              "      <td>191792.06</td>\n",
              "    </tr>\n",
              "    <tr>\n",
              "      <th>2</th>\n",
              "      <td>153441.51</td>\n",
              "      <td>101145.55</td>\n",
              "      <td>407934.54</td>\n",
              "      <td>Rangpur</td>\n",
              "      <td>191050.39</td>\n",
              "    </tr>\n",
              "    <tr>\n",
              "      <th>3</th>\n",
              "      <td>144372.41</td>\n",
              "      <td>118671.85</td>\n",
              "      <td>383199.62</td>\n",
              "      <td>Dhaka</td>\n",
              "      <td>182901.99</td>\n",
              "    </tr>\n",
              "    <tr>\n",
              "      <th>4</th>\n",
              "      <td>142107.34</td>\n",
              "      <td>91391.77</td>\n",
              "      <td>366168.42</td>\n",
              "      <td>Rangpur</td>\n",
              "      <td>166187.94</td>\n",
              "    </tr>\n",
              "  </tbody>\n",
              "</table>\n",
              "</div>\n",
              "    <div class=\"colab-df-buttons\">\n",
              "\n",
              "  <div class=\"colab-df-container\">\n",
              "    <button class=\"colab-df-convert\" onclick=\"convertToInteractive('df-5887a634-f229-472a-ac19-fa46a207154a')\"\n",
              "            title=\"Convert this dataframe to an interactive table.\"\n",
              "            style=\"display:none;\">\n",
              "\n",
              "  <svg xmlns=\"http://www.w3.org/2000/svg\" height=\"24px\" viewBox=\"0 -960 960 960\">\n",
              "    <path d=\"M120-120v-720h720v720H120Zm60-500h600v-160H180v160Zm220 220h160v-160H400v160Zm0 220h160v-160H400v160ZM180-400h160v-160H180v160Zm440 0h160v-160H620v160ZM180-180h160v-160H180v160Zm440 0h160v-160H620v160Z\"/>\n",
              "  </svg>\n",
              "    </button>\n",
              "\n",
              "  <style>\n",
              "    .colab-df-container {\n",
              "      display:flex;\n",
              "      gap: 12px;\n",
              "    }\n",
              "\n",
              "    .colab-df-convert {\n",
              "      background-color: #E8F0FE;\n",
              "      border: none;\n",
              "      border-radius: 50%;\n",
              "      cursor: pointer;\n",
              "      display: none;\n",
              "      fill: #1967D2;\n",
              "      height: 32px;\n",
              "      padding: 0 0 0 0;\n",
              "      width: 32px;\n",
              "    }\n",
              "\n",
              "    .colab-df-convert:hover {\n",
              "      background-color: #E2EBFA;\n",
              "      box-shadow: 0px 1px 2px rgba(60, 64, 67, 0.3), 0px 1px 3px 1px rgba(60, 64, 67, 0.15);\n",
              "      fill: #174EA6;\n",
              "    }\n",
              "\n",
              "    .colab-df-buttons div {\n",
              "      margin-bottom: 4px;\n",
              "    }\n",
              "\n",
              "    [theme=dark] .colab-df-convert {\n",
              "      background-color: #3B4455;\n",
              "      fill: #D2E3FC;\n",
              "    }\n",
              "\n",
              "    [theme=dark] .colab-df-convert:hover {\n",
              "      background-color: #434B5C;\n",
              "      box-shadow: 0px 1px 3px 1px rgba(0, 0, 0, 0.15);\n",
              "      filter: drop-shadow(0px 1px 2px rgba(0, 0, 0, 0.3));\n",
              "      fill: #FFFFFF;\n",
              "    }\n",
              "  </style>\n",
              "\n",
              "    <script>\n",
              "      const buttonEl =\n",
              "        document.querySelector('#df-5887a634-f229-472a-ac19-fa46a207154a button.colab-df-convert');\n",
              "      buttonEl.style.display =\n",
              "        google.colab.kernel.accessAllowed ? 'block' : 'none';\n",
              "\n",
              "      async function convertToInteractive(key) {\n",
              "        const element = document.querySelector('#df-5887a634-f229-472a-ac19-fa46a207154a');\n",
              "        const dataTable =\n",
              "          await google.colab.kernel.invokeFunction('convertToInteractive',\n",
              "                                                    [key], {});\n",
              "        if (!dataTable) return;\n",
              "\n",
              "        const docLinkHtml = 'Like what you see? Visit the ' +\n",
              "          '<a target=\"_blank\" href=https://colab.research.google.com/notebooks/data_table.ipynb>data table notebook</a>'\n",
              "          + ' to learn more about interactive tables.';\n",
              "        element.innerHTML = '';\n",
              "        dataTable['output_type'] = 'display_data';\n",
              "        await google.colab.output.renderOutput(dataTable, element);\n",
              "        const docLink = document.createElement('div');\n",
              "        docLink.innerHTML = docLinkHtml;\n",
              "        element.appendChild(docLink);\n",
              "      }\n",
              "    </script>\n",
              "  </div>\n",
              "\n",
              "\n",
              "<div id=\"df-dd840caf-d644-410f-b8b1-bbf436c47f83\">\n",
              "  <button class=\"colab-df-quickchart\" onclick=\"quickchart('df-dd840caf-d644-410f-b8b1-bbf436c47f83')\"\n",
              "            title=\"Suggest charts.\"\n",
              "            style=\"display:none;\">\n",
              "\n",
              "<svg xmlns=\"http://www.w3.org/2000/svg\" height=\"24px\"viewBox=\"0 0 24 24\"\n",
              "     width=\"24px\">\n",
              "    <g>\n",
              "        <path d=\"M19 3H5c-1.1 0-2 .9-2 2v14c0 1.1.9 2 2 2h14c1.1 0 2-.9 2-2V5c0-1.1-.9-2-2-2zM9 17H7v-7h2v7zm4 0h-2V7h2v10zm4 0h-2v-4h2v4z\"/>\n",
              "    </g>\n",
              "</svg>\n",
              "  </button>\n",
              "\n",
              "<style>\n",
              "  .colab-df-quickchart {\n",
              "    background-color: #E8F0FE;\n",
              "    border: none;\n",
              "    border-radius: 50%;\n",
              "    cursor: pointer;\n",
              "    display: none;\n",
              "    fill: #1967D2;\n",
              "    height: 32px;\n",
              "    padding: 0 0 0 0;\n",
              "    width: 32px;\n",
              "  }\n",
              "\n",
              "  .colab-df-quickchart:hover {\n",
              "    background-color: #E2EBFA;\n",
              "    box-shadow: 0px 1px 2px rgba(60, 64, 67, 0.3), 0px 1px 3px 1px rgba(60, 64, 67, 0.15);\n",
              "    fill: #174EA6;\n",
              "  }\n",
              "\n",
              "  [theme=dark] .colab-df-quickchart {\n",
              "    background-color: #3B4455;\n",
              "    fill: #D2E3FC;\n",
              "  }\n",
              "\n",
              "  [theme=dark] .colab-df-quickchart:hover {\n",
              "    background-color: #434B5C;\n",
              "    box-shadow: 0px 1px 3px 1px rgba(0, 0, 0, 0.15);\n",
              "    filter: drop-shadow(0px 1px 2px rgba(0, 0, 0, 0.3));\n",
              "    fill: #FFFFFF;\n",
              "  }\n",
              "</style>\n",
              "\n",
              "  <script>\n",
              "    async function quickchart(key) {\n",
              "      const charts = await google.colab.kernel.invokeFunction(\n",
              "          'suggestCharts', [key], {});\n",
              "    }\n",
              "    (() => {\n",
              "      let quickchartButtonEl =\n",
              "        document.querySelector('#df-dd840caf-d644-410f-b8b1-bbf436c47f83 button');\n",
              "      quickchartButtonEl.style.display =\n",
              "        google.colab.kernel.accessAllowed ? 'block' : 'none';\n",
              "    })();\n",
              "  </script>\n",
              "</div>\n",
              "    </div>\n",
              "  </div>\n"
            ]
          },
          "metadata": {},
          "execution_count": 50
        }
      ]
    },
    {
      "cell_type": "code",
      "source": [
        "xsd=dataframe.drop(\"Profit\",axis=1)\n",
        "ysd=dataframe[\"Profit\"]"
      ],
      "metadata": {
        "id": "JZc0Cb5Tne3Y"
      },
      "execution_count": 51,
      "outputs": []
    },
    {
      "cell_type": "code",
      "source": [
        "xsd.head()"
      ],
      "metadata": {
        "colab": {
          "base_uri": "https://localhost:8080/",
          "height": 206
        },
        "id": "XvHHp7j8nezE",
        "outputId": "79107226-ed66-4ee3-8f48-67a57f7e729c"
      },
      "execution_count": 52,
      "outputs": [
        {
          "output_type": "execute_result",
          "data": {
            "text/plain": [
              "   Marketing Spend  Administration  Transport     Area\n",
              "0        114523.61       136897.80  471784.10    Dhaka\n",
              "1        162597.70       151377.59  443898.53      Ctg\n",
              "2        153441.51       101145.55  407934.54  Rangpur\n",
              "3        144372.41       118671.85  383199.62    Dhaka\n",
              "4        142107.34        91391.77  366168.42  Rangpur"
            ],
            "text/html": [
              "\n",
              "  <div id=\"df-c59ea349-4c10-4b71-b68f-23c8e43e75b3\" class=\"colab-df-container\">\n",
              "    <div>\n",
              "<style scoped>\n",
              "    .dataframe tbody tr th:only-of-type {\n",
              "        vertical-align: middle;\n",
              "    }\n",
              "\n",
              "    .dataframe tbody tr th {\n",
              "        vertical-align: top;\n",
              "    }\n",
              "\n",
              "    .dataframe thead th {\n",
              "        text-align: right;\n",
              "    }\n",
              "</style>\n",
              "<table border=\"1\" class=\"dataframe\">\n",
              "  <thead>\n",
              "    <tr style=\"text-align: right;\">\n",
              "      <th></th>\n",
              "      <th>Marketing Spend</th>\n",
              "      <th>Administration</th>\n",
              "      <th>Transport</th>\n",
              "      <th>Area</th>\n",
              "    </tr>\n",
              "  </thead>\n",
              "  <tbody>\n",
              "    <tr>\n",
              "      <th>0</th>\n",
              "      <td>114523.61</td>\n",
              "      <td>136897.80</td>\n",
              "      <td>471784.10</td>\n",
              "      <td>Dhaka</td>\n",
              "    </tr>\n",
              "    <tr>\n",
              "      <th>1</th>\n",
              "      <td>162597.70</td>\n",
              "      <td>151377.59</td>\n",
              "      <td>443898.53</td>\n",
              "      <td>Ctg</td>\n",
              "    </tr>\n",
              "    <tr>\n",
              "      <th>2</th>\n",
              "      <td>153441.51</td>\n",
              "      <td>101145.55</td>\n",
              "      <td>407934.54</td>\n",
              "      <td>Rangpur</td>\n",
              "    </tr>\n",
              "    <tr>\n",
              "      <th>3</th>\n",
              "      <td>144372.41</td>\n",
              "      <td>118671.85</td>\n",
              "      <td>383199.62</td>\n",
              "      <td>Dhaka</td>\n",
              "    </tr>\n",
              "    <tr>\n",
              "      <th>4</th>\n",
              "      <td>142107.34</td>\n",
              "      <td>91391.77</td>\n",
              "      <td>366168.42</td>\n",
              "      <td>Rangpur</td>\n",
              "    </tr>\n",
              "  </tbody>\n",
              "</table>\n",
              "</div>\n",
              "    <div class=\"colab-df-buttons\">\n",
              "\n",
              "  <div class=\"colab-df-container\">\n",
              "    <button class=\"colab-df-convert\" onclick=\"convertToInteractive('df-c59ea349-4c10-4b71-b68f-23c8e43e75b3')\"\n",
              "            title=\"Convert this dataframe to an interactive table.\"\n",
              "            style=\"display:none;\">\n",
              "\n",
              "  <svg xmlns=\"http://www.w3.org/2000/svg\" height=\"24px\" viewBox=\"0 -960 960 960\">\n",
              "    <path d=\"M120-120v-720h720v720H120Zm60-500h600v-160H180v160Zm220 220h160v-160H400v160Zm0 220h160v-160H400v160ZM180-400h160v-160H180v160Zm440 0h160v-160H620v160ZM180-180h160v-160H180v160Zm440 0h160v-160H620v160Z\"/>\n",
              "  </svg>\n",
              "    </button>\n",
              "\n",
              "  <style>\n",
              "    .colab-df-container {\n",
              "      display:flex;\n",
              "      gap: 12px;\n",
              "    }\n",
              "\n",
              "    .colab-df-convert {\n",
              "      background-color: #E8F0FE;\n",
              "      border: none;\n",
              "      border-radius: 50%;\n",
              "      cursor: pointer;\n",
              "      display: none;\n",
              "      fill: #1967D2;\n",
              "      height: 32px;\n",
              "      padding: 0 0 0 0;\n",
              "      width: 32px;\n",
              "    }\n",
              "\n",
              "    .colab-df-convert:hover {\n",
              "      background-color: #E2EBFA;\n",
              "      box-shadow: 0px 1px 2px rgba(60, 64, 67, 0.3), 0px 1px 3px 1px rgba(60, 64, 67, 0.15);\n",
              "      fill: #174EA6;\n",
              "    }\n",
              "\n",
              "    .colab-df-buttons div {\n",
              "      margin-bottom: 4px;\n",
              "    }\n",
              "\n",
              "    [theme=dark] .colab-df-convert {\n",
              "      background-color: #3B4455;\n",
              "      fill: #D2E3FC;\n",
              "    }\n",
              "\n",
              "    [theme=dark] .colab-df-convert:hover {\n",
              "      background-color: #434B5C;\n",
              "      box-shadow: 0px 1px 3px 1px rgba(0, 0, 0, 0.15);\n",
              "      filter: drop-shadow(0px 1px 2px rgba(0, 0, 0, 0.3));\n",
              "      fill: #FFFFFF;\n",
              "    }\n",
              "  </style>\n",
              "\n",
              "    <script>\n",
              "      const buttonEl =\n",
              "        document.querySelector('#df-c59ea349-4c10-4b71-b68f-23c8e43e75b3 button.colab-df-convert');\n",
              "      buttonEl.style.display =\n",
              "        google.colab.kernel.accessAllowed ? 'block' : 'none';\n",
              "\n",
              "      async function convertToInteractive(key) {\n",
              "        const element = document.querySelector('#df-c59ea349-4c10-4b71-b68f-23c8e43e75b3');\n",
              "        const dataTable =\n",
              "          await google.colab.kernel.invokeFunction('convertToInteractive',\n",
              "                                                    [key], {});\n",
              "        if (!dataTable) return;\n",
              "\n",
              "        const docLinkHtml = 'Like what you see? Visit the ' +\n",
              "          '<a target=\"_blank\" href=https://colab.research.google.com/notebooks/data_table.ipynb>data table notebook</a>'\n",
              "          + ' to learn more about interactive tables.';\n",
              "        element.innerHTML = '';\n",
              "        dataTable['output_type'] = 'display_data';\n",
              "        await google.colab.output.renderOutput(dataTable, element);\n",
              "        const docLink = document.createElement('div');\n",
              "        docLink.innerHTML = docLinkHtml;\n",
              "        element.appendChild(docLink);\n",
              "      }\n",
              "    </script>\n",
              "  </div>\n",
              "\n",
              "\n",
              "<div id=\"df-a625022a-d2bc-40aa-9e56-d5ab8dfdad4c\">\n",
              "  <button class=\"colab-df-quickchart\" onclick=\"quickchart('df-a625022a-d2bc-40aa-9e56-d5ab8dfdad4c')\"\n",
              "            title=\"Suggest charts.\"\n",
              "            style=\"display:none;\">\n",
              "\n",
              "<svg xmlns=\"http://www.w3.org/2000/svg\" height=\"24px\"viewBox=\"0 0 24 24\"\n",
              "     width=\"24px\">\n",
              "    <g>\n",
              "        <path d=\"M19 3H5c-1.1 0-2 .9-2 2v14c0 1.1.9 2 2 2h14c1.1 0 2-.9 2-2V5c0-1.1-.9-2-2-2zM9 17H7v-7h2v7zm4 0h-2V7h2v10zm4 0h-2v-4h2v4z\"/>\n",
              "    </g>\n",
              "</svg>\n",
              "  </button>\n",
              "\n",
              "<style>\n",
              "  .colab-df-quickchart {\n",
              "    background-color: #E8F0FE;\n",
              "    border: none;\n",
              "    border-radius: 50%;\n",
              "    cursor: pointer;\n",
              "    display: none;\n",
              "    fill: #1967D2;\n",
              "    height: 32px;\n",
              "    padding: 0 0 0 0;\n",
              "    width: 32px;\n",
              "  }\n",
              "\n",
              "  .colab-df-quickchart:hover {\n",
              "    background-color: #E2EBFA;\n",
              "    box-shadow: 0px 1px 2px rgba(60, 64, 67, 0.3), 0px 1px 3px 1px rgba(60, 64, 67, 0.15);\n",
              "    fill: #174EA6;\n",
              "  }\n",
              "\n",
              "  [theme=dark] .colab-df-quickchart {\n",
              "    background-color: #3B4455;\n",
              "    fill: #D2E3FC;\n",
              "  }\n",
              "\n",
              "  [theme=dark] .colab-df-quickchart:hover {\n",
              "    background-color: #434B5C;\n",
              "    box-shadow: 0px 1px 3px 1px rgba(0, 0, 0, 0.15);\n",
              "    filter: drop-shadow(0px 1px 2px rgba(0, 0, 0, 0.3));\n",
              "    fill: #FFFFFF;\n",
              "  }\n",
              "</style>\n",
              "\n",
              "  <script>\n",
              "    async function quickchart(key) {\n",
              "      const charts = await google.colab.kernel.invokeFunction(\n",
              "          'suggestCharts', [key], {});\n",
              "    }\n",
              "    (() => {\n",
              "      let quickchartButtonEl =\n",
              "        document.querySelector('#df-a625022a-d2bc-40aa-9e56-d5ab8dfdad4c button');\n",
              "      quickchartButtonEl.style.display =\n",
              "        google.colab.kernel.accessAllowed ? 'block' : 'none';\n",
              "    })();\n",
              "  </script>\n",
              "</div>\n",
              "    </div>\n",
              "  </div>\n"
            ]
          },
          "metadata": {},
          "execution_count": 52
        }
      ]
    },
    {
      "cell_type": "code",
      "source": [
        "ysd.head()"
      ],
      "metadata": {
        "colab": {
          "base_uri": "https://localhost:8080/"
        },
        "id": "ym1Sz2t4newJ",
        "outputId": "d90f48ec-cfc6-4d4c-8bd6-d479276300a9"
      },
      "execution_count": 53,
      "outputs": [
        {
          "output_type": "execute_result",
          "data": {
            "text/plain": [
              "0    192261.83\n",
              "1    191792.06\n",
              "2    191050.39\n",
              "3    182901.99\n",
              "4    166187.94\n",
              "Name: Profit, dtype: float64"
            ]
          },
          "metadata": {},
          "execution_count": 53
        }
      ]
    },
    {
      "cell_type": "code",
      "source": [
        "#Standard Deviation\n",
        "sd=xsd[\"Marketing Spend\"].std()"
      ],
      "metadata": {
        "id": "2vzi1I7knesz"
      },
      "execution_count": 54,
      "outputs": []
    },
    {
      "cell_type": "code",
      "source": [
        "sd"
      ],
      "metadata": {
        "colab": {
          "base_uri": "https://localhost:8080/"
        },
        "id": "3BEdn3LVnepX",
        "outputId": "8ba2a7d4-6560-45a4-cebc-04a5954131b0"
      },
      "execution_count": 55,
      "outputs": [
        {
          "output_type": "execute_result",
          "data": {
            "text/plain": [
              "45902.25648230753"
            ]
          },
          "metadata": {},
          "execution_count": 55
        }
      ]
    },
    {
      "cell_type": "code",
      "source": [
        "#Mean Calculation\n",
        "mn=xsd[\"Marketing Spend\"].mean()"
      ],
      "metadata": {
        "id": "IL6ZyV9bnem0"
      },
      "execution_count": 56,
      "outputs": []
    },
    {
      "cell_type": "code",
      "source": [
        "mn"
      ],
      "metadata": {
        "colab": {
          "base_uri": "https://localhost:8080/"
        },
        "id": "bDM1VNqeneh1",
        "outputId": "1c94ca40-dc9e-4989-d24b-bf00ff052df3"
      },
      "execution_count": 57,
      "outputs": [
        {
          "output_type": "execute_result",
          "data": {
            "text/plain": [
              "73721.6156"
            ]
          },
          "metadata": {},
          "execution_count": 57
        }
      ]
    },
    {
      "cell_type": "code",
      "source": [
        "orginal_value=dataframe[\"Marketing Spend\"].to_numpy()"
      ],
      "metadata": {
        "id": "C7UvdXTrneZF"
      },
      "execution_count": 58,
      "outputs": []
    },
    {
      "cell_type": "code",
      "source": [
        "orginal_value"
      ],
      "metadata": {
        "colab": {
          "base_uri": "https://localhost:8080/"
        },
        "id": "uWsRe7DQpWOA",
        "outputId": "51425a99-48c2-4c0c-9db9-2767c571e004"
      },
      "execution_count": 59,
      "outputs": [
        {
          "output_type": "execute_result",
          "data": {
            "text/plain": [
              "array([114523.61, 162597.7 , 153441.51, 144372.41, 142107.34, 131876.9 ,\n",
              "       134615.46, 130298.13, 120542.52, 123334.88, 101913.08, 100671.96,\n",
              "        93863.75,  91992.39, 119943.24, 165349.2 ,  78013.11,  94657.16,\n",
              "        91749.16,  86419.7 ,  76253.86,  78389.47,  73994.56,  67532.53,\n",
              "        77044.01,  64664.71,  75328.87,  72107.6 ,  66051.52,  65605.48,\n",
              "        61994.48,  61136.38,  63408.86,  55493.95,  46426.07,  46014.02,\n",
              "        28663.76,  44069.95,  20229.59,  38558.51,  28754.33,  27892.92,\n",
              "        23640.93,  15505.73,  22177.74,   1000.23,   1315.46,      0.  ,\n",
              "          542.05,      0.  ])"
            ]
          },
          "metadata": {},
          "execution_count": 59
        }
      ]
    },
    {
      "cell_type": "code",
      "source": [
        "'''\n",
        "mn=mean Value\n",
        "sd=standard Deviation\n",
        "orginal Value\n",
        "'''\n",
        "new_value=(orginal_value-mn)/sd"
      ],
      "metadata": {
        "id": "m3rdF6I6pWG6"
      },
      "execution_count": 60,
      "outputs": []
    },
    {
      "cell_type": "code",
      "source": [
        "new_value"
      ],
      "metadata": {
        "colab": {
          "base_uri": "https://localhost:8080/"
        },
        "id": "pTDgmqappWEY",
        "outputId": "e8360956-d956-43d8-d54a-dbdff88a60df"
      },
      "execution_count": 61,
      "outputs": [
        {
          "output_type": "execute_result",
          "data": {
            "text/plain": [
              "array([ 0.88888864,  1.93620295,  1.73673149,  1.53915733,  1.48981182,\n",
              "        1.26693738,  1.32659806,  1.23254321,  1.02001313,  1.08084587,\n",
              "        0.61416293,  0.58712461,  0.43880489,  0.39803652,  1.00695756,\n",
              "        1.99614554,  0.09349201,  0.45608966,  0.39273765,  0.27663312,\n",
              "        0.05516601,  0.10169118,  0.00594621, -0.13483184,  0.07237976,\n",
              "       -0.1973085 ,  0.03501471, -0.03516201, -0.16709626, -0.17681343,\n",
              "       -0.25548059, -0.27417466, -0.22466773, -0.39709738, -0.59464496,\n",
              "       -0.60362165, -0.98160437, -0.64597403, -1.16534632, -0.76604307,\n",
              "       -0.97963127, -0.99839745, -1.09102884, -1.2682576 , -1.12290505,\n",
              "       -1.58426603, -1.57739861, -1.60605646, -1.59424767, -1.60605646])"
            ]
          },
          "metadata": {},
          "execution_count": 61
        }
      ]
    },
    {
      "cell_type": "markdown",
      "source": [
        "# **for Loop**"
      ],
      "metadata": {
        "id": "SFkxOVX0Heht"
      }
    },
    {
      "cell_type": "code",
      "source": [
        "x2=x.copy()"
      ],
      "metadata": {
        "id": "JfpsRwf0HeE1"
      },
      "execution_count": 62,
      "outputs": []
    },
    {
      "cell_type": "code",
      "source": [
        "for column in x2:\n",
        "  if x2[column].dtype==object:\n",
        "    continue\n",
        "  else:\n",
        "    scaler.fit(x2[[column]])\n",
        "    x2[column]=scaler.transform(x2[[column]])\n",
        "print(x2.head())"
      ],
      "metadata": {
        "colab": {
          "base_uri": "https://localhost:8080/"
        },
        "id": "S7S5svRxHeAY",
        "outputId": "0b3eb36f-c9a7-4f3d-b144-c3397353ee16"
      },
      "execution_count": 63,
      "outputs": [
        {
          "output_type": "stream",
          "name": "stdout",
          "text": [
            "   Marketing Spend  Administration  Transport     Area\n",
            "0         0.897913        0.560753   2.165287    Dhaka\n",
            "1         1.955860        1.082807   1.929843      Ctg\n",
            "2         1.754364       -0.728257   1.626191  Rangpur\n",
            "3         1.554784       -0.096365   1.417348    Dhaka\n",
            "4         1.504937       -1.079919   1.273550  Rangpur\n"
          ]
        }
      ]
    },
    {
      "cell_type": "markdown",
      "source": [
        "# **Max Absolute Scaler**\n",
        "---\n",
        "![download (1).png](data:image/png;base64,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)\n"
      ],
      "metadata": {
        "id": "0PrRWLLIrQH6"
      }
    },
    {
      "cell_type": "markdown",
      "source": [
        "# **Import Required Library**"
      ],
      "metadata": {
        "id": "9x-E1H1osCtI"
      }
    },
    {
      "cell_type": "code",
      "source": [
        "import numpy as np\n",
        "import pandas as pd"
      ],
      "metadata": {
        "id": "hqJYjAwSpWAv"
      },
      "execution_count": 64,
      "outputs": []
    },
    {
      "cell_type": "code",
      "source": [
        "#Read the Dataset\n",
        "df_=pd.read_csv(\"/content/drive/MyDrive/Data/supershops.csv\")"
      ],
      "metadata": {
        "id": "3YpCuWfupV8t"
      },
      "execution_count": 65,
      "outputs": []
    },
    {
      "cell_type": "code",
      "source": [
        "df_.head()"
      ],
      "metadata": {
        "colab": {
          "base_uri": "https://localhost:8080/",
          "height": 206
        },
        "id": "_OG1Tg-1pV5e",
        "outputId": "19f5d58b-3883-481f-be20-662421931c11"
      },
      "execution_count": 66,
      "outputs": [
        {
          "output_type": "execute_result",
          "data": {
            "text/plain": [
              "   Marketing Spend  Administration  Transport     Area     Profit\n",
              "0        114523.61       136897.80  471784.10    Dhaka  192261.83\n",
              "1        162597.70       151377.59  443898.53      Ctg  191792.06\n",
              "2        153441.51       101145.55  407934.54  Rangpur  191050.39\n",
              "3        144372.41       118671.85  383199.62    Dhaka  182901.99\n",
              "4        142107.34        91391.77  366168.42  Rangpur  166187.94"
            ],
            "text/html": [
              "\n",
              "  <div id=\"df-d8b0c321-9ffb-4c4d-9151-97338b69f9b6\" class=\"colab-df-container\">\n",
              "    <div>\n",
              "<style scoped>\n",
              "    .dataframe tbody tr th:only-of-type {\n",
              "        vertical-align: middle;\n",
              "    }\n",
              "\n",
              "    .dataframe tbody tr th {\n",
              "        vertical-align: top;\n",
              "    }\n",
              "\n",
              "    .dataframe thead th {\n",
              "        text-align: right;\n",
              "    }\n",
              "</style>\n",
              "<table border=\"1\" class=\"dataframe\">\n",
              "  <thead>\n",
              "    <tr style=\"text-align: right;\">\n",
              "      <th></th>\n",
              "      <th>Marketing Spend</th>\n",
              "      <th>Administration</th>\n",
              "      <th>Transport</th>\n",
              "      <th>Area</th>\n",
              "      <th>Profit</th>\n",
              "    </tr>\n",
              "  </thead>\n",
              "  <tbody>\n",
              "    <tr>\n",
              "      <th>0</th>\n",
              "      <td>114523.61</td>\n",
              "      <td>136897.80</td>\n",
              "      <td>471784.10</td>\n",
              "      <td>Dhaka</td>\n",
              "      <td>192261.83</td>\n",
              "    </tr>\n",
              "    <tr>\n",
              "      <th>1</th>\n",
              "      <td>162597.70</td>\n",
              "      <td>151377.59</td>\n",
              "      <td>443898.53</td>\n",
              "      <td>Ctg</td>\n",
              "      <td>191792.06</td>\n",
              "    </tr>\n",
              "    <tr>\n",
              "      <th>2</th>\n",
              "      <td>153441.51</td>\n",
              "      <td>101145.55</td>\n",
              "      <td>407934.54</td>\n",
              "      <td>Rangpur</td>\n",
              "      <td>191050.39</td>\n",
              "    </tr>\n",
              "    <tr>\n",
              "      <th>3</th>\n",
              "      <td>144372.41</td>\n",
              "      <td>118671.85</td>\n",
              "      <td>383199.62</td>\n",
              "      <td>Dhaka</td>\n",
              "      <td>182901.99</td>\n",
              "    </tr>\n",
              "    <tr>\n",
              "      <th>4</th>\n",
              "      <td>142107.34</td>\n",
              "      <td>91391.77</td>\n",
              "      <td>366168.42</td>\n",
              "      <td>Rangpur</td>\n",
              "      <td>166187.94</td>\n",
              "    </tr>\n",
              "  </tbody>\n",
              "</table>\n",
              "</div>\n",
              "    <div class=\"colab-df-buttons\">\n",
              "\n",
              "  <div class=\"colab-df-container\">\n",
              "    <button class=\"colab-df-convert\" onclick=\"convertToInteractive('df-d8b0c321-9ffb-4c4d-9151-97338b69f9b6')\"\n",
              "            title=\"Convert this dataframe to an interactive table.\"\n",
              "            style=\"display:none;\">\n",
              "\n",
              "  <svg xmlns=\"http://www.w3.org/2000/svg\" height=\"24px\" viewBox=\"0 -960 960 960\">\n",
              "    <path d=\"M120-120v-720h720v720H120Zm60-500h600v-160H180v160Zm220 220h160v-160H400v160Zm0 220h160v-160H400v160ZM180-400h160v-160H180v160Zm440 0h160v-160H620v160ZM180-180h160v-160H180v160Zm440 0h160v-160H620v160Z\"/>\n",
              "  </svg>\n",
              "    </button>\n",
              "\n",
              "  <style>\n",
              "    .colab-df-container {\n",
              "      display:flex;\n",
              "      gap: 12px;\n",
              "    }\n",
              "\n",
              "    .colab-df-convert {\n",
              "      background-color: #E8F0FE;\n",
              "      border: none;\n",
              "      border-radius: 50%;\n",
              "      cursor: pointer;\n",
              "      display: none;\n",
              "      fill: #1967D2;\n",
              "      height: 32px;\n",
              "      padding: 0 0 0 0;\n",
              "      width: 32px;\n",
              "    }\n",
              "\n",
              "    .colab-df-convert:hover {\n",
              "      background-color: #E2EBFA;\n",
              "      box-shadow: 0px 1px 2px rgba(60, 64, 67, 0.3), 0px 1px 3px 1px rgba(60, 64, 67, 0.15);\n",
              "      fill: #174EA6;\n",
              "    }\n",
              "\n",
              "    .colab-df-buttons div {\n",
              "      margin-bottom: 4px;\n",
              "    }\n",
              "\n",
              "    [theme=dark] .colab-df-convert {\n",
              "      background-color: #3B4455;\n",
              "      fill: #D2E3FC;\n",
              "    }\n",
              "\n",
              "    [theme=dark] .colab-df-convert:hover {\n",
              "      background-color: #434B5C;\n",
              "      box-shadow: 0px 1px 3px 1px rgba(0, 0, 0, 0.15);\n",
              "      filter: drop-shadow(0px 1px 2px rgba(0, 0, 0, 0.3));\n",
              "      fill: #FFFFFF;\n",
              "    }\n",
              "  </style>\n",
              "\n",
              "    <script>\n",
              "      const buttonEl =\n",
              "        document.querySelector('#df-d8b0c321-9ffb-4c4d-9151-97338b69f9b6 button.colab-df-convert');\n",
              "      buttonEl.style.display =\n",
              "        google.colab.kernel.accessAllowed ? 'block' : 'none';\n",
              "\n",
              "      async function convertToInteractive(key) {\n",
              "        const element = document.querySelector('#df-d8b0c321-9ffb-4c4d-9151-97338b69f9b6');\n",
              "        const dataTable =\n",
              "          await google.colab.kernel.invokeFunction('convertToInteractive',\n",
              "                                                    [key], {});\n",
              "        if (!dataTable) return;\n",
              "\n",
              "        const docLinkHtml = 'Like what you see? Visit the ' +\n",
              "          '<a target=\"_blank\" href=https://colab.research.google.com/notebooks/data_table.ipynb>data table notebook</a>'\n",
              "          + ' to learn more about interactive tables.';\n",
              "        element.innerHTML = '';\n",
              "        dataTable['output_type'] = 'display_data';\n",
              "        await google.colab.output.renderOutput(dataTable, element);\n",
              "        const docLink = document.createElement('div');\n",
              "        docLink.innerHTML = docLinkHtml;\n",
              "        element.appendChild(docLink);\n",
              "      }\n",
              "    </script>\n",
              "  </div>\n",
              "\n",
              "\n",
              "<div id=\"df-76d82280-3b26-4f6f-a761-124948b0865d\">\n",
              "  <button class=\"colab-df-quickchart\" onclick=\"quickchart('df-76d82280-3b26-4f6f-a761-124948b0865d')\"\n",
              "            title=\"Suggest charts.\"\n",
              "            style=\"display:none;\">\n",
              "\n",
              "<svg xmlns=\"http://www.w3.org/2000/svg\" height=\"24px\"viewBox=\"0 0 24 24\"\n",
              "     width=\"24px\">\n",
              "    <g>\n",
              "        <path d=\"M19 3H5c-1.1 0-2 .9-2 2v14c0 1.1.9 2 2 2h14c1.1 0 2-.9 2-2V5c0-1.1-.9-2-2-2zM9 17H7v-7h2v7zm4 0h-2V7h2v10zm4 0h-2v-4h2v4z\"/>\n",
              "    </g>\n",
              "</svg>\n",
              "  </button>\n",
              "\n",
              "<style>\n",
              "  .colab-df-quickchart {\n",
              "    background-color: #E8F0FE;\n",
              "    border: none;\n",
              "    border-radius: 50%;\n",
              "    cursor: pointer;\n",
              "    display: none;\n",
              "    fill: #1967D2;\n",
              "    height: 32px;\n",
              "    padding: 0 0 0 0;\n",
              "    width: 32px;\n",
              "  }\n",
              "\n",
              "  .colab-df-quickchart:hover {\n",
              "    background-color: #E2EBFA;\n",
              "    box-shadow: 0px 1px 2px rgba(60, 64, 67, 0.3), 0px 1px 3px 1px rgba(60, 64, 67, 0.15);\n",
              "    fill: #174EA6;\n",
              "  }\n",
              "\n",
              "  [theme=dark] .colab-df-quickchart {\n",
              "    background-color: #3B4455;\n",
              "    fill: #D2E3FC;\n",
              "  }\n",
              "\n",
              "  [theme=dark] .colab-df-quickchart:hover {\n",
              "    background-color: #434B5C;\n",
              "    box-shadow: 0px 1px 3px 1px rgba(0, 0, 0, 0.15);\n",
              "    filter: drop-shadow(0px 1px 2px rgba(0, 0, 0, 0.3));\n",
              "    fill: #FFFFFF;\n",
              "  }\n",
              "</style>\n",
              "\n",
              "  <script>\n",
              "    async function quickchart(key) {\n",
              "      const charts = await google.colab.kernel.invokeFunction(\n",
              "          'suggestCharts', [key], {});\n",
              "    }\n",
              "    (() => {\n",
              "      let quickchartButtonEl =\n",
              "        document.querySelector('#df-76d82280-3b26-4f6f-a761-124948b0865d button');\n",
              "      quickchartButtonEl.style.display =\n",
              "        google.colab.kernel.accessAllowed ? 'block' : 'none';\n",
              "    })();\n",
              "  </script>\n",
              "</div>\n",
              "    </div>\n",
              "  </div>\n"
            ]
          },
          "metadata": {},
          "execution_count": 66
        }
      ]
    },
    {
      "cell_type": "code",
      "source": [
        "from sklearn.preprocessing import MaxAbsScaler"
      ],
      "metadata": {
        "id": "AuwKuykxJ53a"
      },
      "execution_count": 67,
      "outputs": []
    },
    {
      "cell_type": "code",
      "source": [
        "scaler=MaxAbsScaler"
      ],
      "metadata": {
        "id": "_wfw2OVqJ-7t"
      },
      "execution_count": 68,
      "outputs": []
    },
    {
      "cell_type": "code",
      "source": [
        "x3=x.copy()"
      ],
      "metadata": {
        "id": "gg4wnyCWpV2V"
      },
      "execution_count": 69,
      "outputs": []
    }
  ]
}